{
 "cells": [
  {
   "cell_type": "markdown",
   "metadata": {
    "id": "8GUCHEDi7eDq"
   },
   "source": [
    "# Dataset Setup"
   ]
  },
  {
   "cell_type": "code",
   "execution_count": 1,
   "metadata": {
    "colab": {
     "base_uri": "https://localhost:8080/"
    },
    "id": "ThJvsI_L7U5P",
    "outputId": "af258df9-0779-4b7d-f48f-31a2bbd0aaea"
   },
   "outputs": [
    {
     "name": "stdout",
     "output_type": "stream",
     "text": [
      "Mounted at /content/drive\n"
     ]
    }
   ],
   "source": [
    "from google.colab import drive\n",
    "drive.mount('/content/drive')"
   ]
  },
  {
   "cell_type": "code",
   "execution_count": 2,
   "metadata": {
    "id": "GLWXJWlb7xDQ"
   },
   "outputs": [],
   "source": [
    "!mkdir dataset\n",
    "!cp /content/drive/MyDrive/Capstone/dataset/symptoms.csv dataset/symptoms.csv"
   ]
  },
  {
   "cell_type": "markdown",
   "metadata": {
    "id": "OV3w9AHb9H8j"
   },
   "source": [
    "# Setup"
   ]
  },
  {
   "cell_type": "code",
   "execution_count": 11,
   "metadata": {
    "id": "OtPXsvqF9BoH"
   },
   "outputs": [],
   "source": [
    "import os\n",
    "import numpy as np\n",
    "import pandas as pd\n",
    "import tensorflow as tf\n",
    "import matplotlib.pyplot as plt\n",
    "\n",
    "from sklearn.model_selection import train_test_split"
   ]
  },
  {
   "cell_type": "code",
   "execution_count": 4,
   "metadata": {
    "id": "BFbNstov9PVm"
   },
   "outputs": [],
   "source": [
    "DATASET_PATH = 'dataset/symptoms.csv'\n",
    "SPLIT_SIZE = 0.2"
   ]
  },
  {
   "cell_type": "markdown",
   "metadata": {
    "id": "AdOBkzgk85J0"
   },
   "source": [
    "# Data Processing\n",
    "\n",
    "Read CSV and convert the content to float64"
   ]
  },
  {
   "cell_type": "code",
   "execution_count": 13,
   "metadata": {
    "colab": {
     "base_uri": "https://localhost:8080/"
    },
    "id": "zoNfO56p8xs-",
    "outputId": "1cc3025d-ebad-44ad-fae4-26c774ef780e"
   },
   "outputs": [
    {
     "name": "stdout",
     "output_type": "stream",
     "text": [
      "<class 'pandas.core.frame.DataFrame'>\n",
      "RangeIndex: 16 entries, 0 to 15\n",
      "Data columns (total 9 columns):\n",
      " #   Column           Non-Null Count  Dtype  \n",
      "---  ------           --------------  -----  \n",
      " 0   sleep_deprv      16 non-null     float64\n",
      " 1   itchy_eye        16 non-null     float64\n",
      " 2   dry_eye          16 non-null     float64\n",
      " 3   light_sensitive  16 non-null     float64\n",
      " 4   burn_sensation   16 non-null     float64\n",
      " 5   eye_tears        16 non-null     float64\n",
      " 6   blurry_vision    16 non-null     float64\n",
      " 7   eye_condition    16 non-null     float64\n",
      " 8   diagnosis        16 non-null     float64\n",
      "dtypes: float64(9)\n",
      "memory usage: 1.2 KB\n"
     ]
    }
   ],
   "source": [
    "df = pd.read_csv(DATASET_PATH).astype('float')\n",
    "\n",
    "df.info()"
   ]
  },
  {
   "cell_type": "code",
   "execution_count": 30,
   "metadata": {
    "colab": {
     "base_uri": "https://localhost:8080/"
    },
    "id": "_e9nBqP7-NYj",
    "outputId": "3ca22b8b-cbf9-4ab3-d621-ceb5e8b2ec15"
   },
   "outputs": [
    {
     "name": "stdout",
     "output_type": "stream",
     "text": [
      "(12, 8)\n",
      "(12,)\n",
      "(4, 8)\n",
      "(4,)\n"
     ]
    }
   ],
   "source": [
    "x = df.iloc[:, :-1]\n",
    "y = df.iloc[:, -1]\n",
    "\n",
    "x_train, x_test, y_train, y_test = train_test_split(x, y, test_size=SPLIT_SIZE, random_state=10)\n",
    "\n",
    "print(x_train.shape)\n",
    "print(y_train.shape)\n",
    "print(x_test.shape)\n",
    "print(y_test.shape)"
   ]
  },
  {
   "cell_type": "markdown",
   "metadata": {
    "id": "3FMIEGc_Cs5R"
   },
   "source": [
    "# Model Setup"
   ]
  },
  {
   "cell_type": "code",
   "execution_count": 59,
   "metadata": {
    "id": "jVzRO5A_Cpqr"
   },
   "outputs": [],
   "source": [
    "class CustomCallback(tf.keras.callbacks.Callback):\n",
    "  def __init__(self):\n",
    "    super(CustomCallback, self).__init__()\n",
    "    self.prev_acc = 0.0\n",
    "\n",
    "  def on_epoch_end(self, epoch, logs=None):\n",
    "    self.prev_acc = logs['accuracy']\n",
    "\n",
    "    # Early stop when there is no accuracy or loss improvement\n",
    "    if epoch > 10 and self.prev_acc < 0.5:\n",
    "      self.model.stop_training = True\n",
    "      print(\"\\nStopped the training because there is no improvement\")\n",
    "\n",
    "    # Early stop when the model has achieved the desired accuracy\n",
    "    # if logs['accuracy'] >= 0.9 and logs['loss'] < 0.01:\n",
    "    #   self.model.stop_training = True\n",
    "    #   print(\"\\nAlready met the desired accuracy\")"
   ]
  },
  {
   "cell_type": "code",
   "execution_count": 262,
   "metadata": {
    "id": "foAZ2JmQC138"
   },
   "outputs": [],
   "source": [
    "tf.keras.backend.clear_session()"
   ]
  },
  {
   "cell_type": "code",
   "execution_count": 263,
   "metadata": {
    "colab": {
     "base_uri": "https://localhost:8080/",
     "height": 228
    },
    "id": "cg2KUTUAC58N",
    "outputId": "dc943a02-e362-4646-d1fc-cb4dbdaba917"
   },
   "outputs": [
    {
     "data": {
      "text/html": [
       "<pre style=\"white-space:pre;overflow-x:auto;line-height:normal;font-family:Menlo,'DejaVu Sans Mono',consolas,'Courier New',monospace\"><span style=\"font-weight: bold\">Model: \"sequential\"</span>\n",
       "</pre>\n"
      ],
      "text/plain": [
       "\u001b[1mModel: \"sequential\"\u001b[0m\n"
      ]
     },
     "metadata": {},
     "output_type": "display_data"
    },
    {
     "data": {
      "text/html": [
       "<pre style=\"white-space:pre;overflow-x:auto;line-height:normal;font-family:Menlo,'DejaVu Sans Mono',consolas,'Courier New',monospace\">┏━━━━━━━━━━━━━━━━━━━━━━━━━━━━━━━━━━━━━━┳━━━━━━━━━━━━━━━━━━━━━━━━━━━━━┳━━━━━━━━━━━━━━━━━┓\n",
       "┃<span style=\"font-weight: bold\"> Layer (type)                         </span>┃<span style=\"font-weight: bold\"> Output Shape                </span>┃<span style=\"font-weight: bold\">         Param # </span>┃\n",
       "┡━━━━━━━━━━━━━━━━━━━━━━━━━━━━━━━━━━━━━━╇━━━━━━━━━━━━━━━━━━━━━━━━━━━━━╇━━━━━━━━━━━━━━━━━┩\n",
       "│ dense (<span style=\"color: #0087ff; text-decoration-color: #0087ff\">Dense</span>)                        │ (<span style=\"color: #00d7ff; text-decoration-color: #00d7ff\">None</span>, <span style=\"color: #00af00; text-decoration-color: #00af00\">256</span>)                 │           <span style=\"color: #00af00; text-decoration-color: #00af00\">2,304</span> │\n",
       "├──────────────────────────────────────┼─────────────────────────────┼─────────────────┤\n",
       "│ dense_1 (<span style=\"color: #0087ff; text-decoration-color: #0087ff\">Dense</span>)                      │ (<span style=\"color: #00d7ff; text-decoration-color: #00d7ff\">None</span>, <span style=\"color: #00af00; text-decoration-color: #00af00\">128</span>)                 │          <span style=\"color: #00af00; text-decoration-color: #00af00\">32,896</span> │\n",
       "├──────────────────────────────────────┼─────────────────────────────┼─────────────────┤\n",
       "│ dense_2 (<span style=\"color: #0087ff; text-decoration-color: #0087ff\">Dense</span>)                      │ (<span style=\"color: #00d7ff; text-decoration-color: #00d7ff\">None</span>, <span style=\"color: #00af00; text-decoration-color: #00af00\">1</span>)                   │             <span style=\"color: #00af00; text-decoration-color: #00af00\">129</span> │\n",
       "└──────────────────────────────────────┴─────────────────────────────┴─────────────────┘\n",
       "</pre>\n"
      ],
      "text/plain": [
       "┏━━━━━━━━━━━━━━━━━━━━━━━━━━━━━━━━━━━━━━┳━━━━━━━━━━━━━━━━━━━━━━━━━━━━━┳━━━━━━━━━━━━━━━━━┓\n",
       "┃\u001b[1m \u001b[0m\u001b[1mLayer (type)                        \u001b[0m\u001b[1m \u001b[0m┃\u001b[1m \u001b[0m\u001b[1mOutput Shape               \u001b[0m\u001b[1m \u001b[0m┃\u001b[1m \u001b[0m\u001b[1m        Param #\u001b[0m\u001b[1m \u001b[0m┃\n",
       "┡━━━━━━━━━━━━━━━━━━━━━━━━━━━━━━━━━━━━━━╇━━━━━━━━━━━━━━━━━━━━━━━━━━━━━╇━━━━━━━━━━━━━━━━━┩\n",
       "│ dense (\u001b[38;5;33mDense\u001b[0m)                        │ (\u001b[38;5;45mNone\u001b[0m, \u001b[38;5;34m256\u001b[0m)                 │           \u001b[38;5;34m2,304\u001b[0m │\n",
       "├──────────────────────────────────────┼─────────────────────────────┼─────────────────┤\n",
       "│ dense_1 (\u001b[38;5;33mDense\u001b[0m)                      │ (\u001b[38;5;45mNone\u001b[0m, \u001b[38;5;34m128\u001b[0m)                 │          \u001b[38;5;34m32,896\u001b[0m │\n",
       "├──────────────────────────────────────┼─────────────────────────────┼─────────────────┤\n",
       "│ dense_2 (\u001b[38;5;33mDense\u001b[0m)                      │ (\u001b[38;5;45mNone\u001b[0m, \u001b[38;5;34m1\u001b[0m)                   │             \u001b[38;5;34m129\u001b[0m │\n",
       "└──────────────────────────────────────┴─────────────────────────────┴─────────────────┘\n"
      ]
     },
     "metadata": {},
     "output_type": "display_data"
    },
    {
     "data": {
      "text/html": [
       "<pre style=\"white-space:pre;overflow-x:auto;line-height:normal;font-family:Menlo,'DejaVu Sans Mono',consolas,'Courier New',monospace\"><span style=\"font-weight: bold\"> Total params: </span><span style=\"color: #00af00; text-decoration-color: #00af00\">35,329</span> (138.00 KB)\n",
       "</pre>\n"
      ],
      "text/plain": [
       "\u001b[1m Total params: \u001b[0m\u001b[38;5;34m35,329\u001b[0m (138.00 KB)\n"
      ]
     },
     "metadata": {},
     "output_type": "display_data"
    },
    {
     "data": {
      "text/html": [
       "<pre style=\"white-space:pre;overflow-x:auto;line-height:normal;font-family:Menlo,'DejaVu Sans Mono',consolas,'Courier New',monospace\"><span style=\"font-weight: bold\"> Trainable params: </span><span style=\"color: #00af00; text-decoration-color: #00af00\">35,329</span> (138.00 KB)\n",
       "</pre>\n"
      ],
      "text/plain": [
       "\u001b[1m Trainable params: \u001b[0m\u001b[38;5;34m35,329\u001b[0m (138.00 KB)\n"
      ]
     },
     "metadata": {},
     "output_type": "display_data"
    },
    {
     "data": {
      "text/html": [
       "<pre style=\"white-space:pre;overflow-x:auto;line-height:normal;font-family:Menlo,'DejaVu Sans Mono',consolas,'Courier New',monospace\"><span style=\"font-weight: bold\"> Non-trainable params: </span><span style=\"color: #00af00; text-decoration-color: #00af00\">0</span> (0.00 B)\n",
       "</pre>\n"
      ],
      "text/plain": [
       "\u001b[1m Non-trainable params: \u001b[0m\u001b[38;5;34m0\u001b[0m (0.00 B)\n"
      ]
     },
     "metadata": {},
     "output_type": "display_data"
    }
   ],
   "source": [
    "model = tf.keras.models.Sequential([\n",
    "    tf.keras.Input(shape=(8,)),\n",
    "    tf.keras.layers.Dense(256, kernel_regularizer=tf.keras.regularizers.l2(0.1), activation='relu'),\n",
    "    tf.keras.layers.Dense(128, kernel_regularizer=tf.keras.regularizers.l2(0.1), activation='relu'),\n",
    "    tf.keras.layers.Dense(1, activation='sigmoid')\n",
    "])\n",
    "\n",
    "model.summary()"
   ]
  },
  {
   "cell_type": "markdown",
   "metadata": {
    "id": "LtFCqn2YCyE7"
   },
   "source": [
    "# Model Training"
   ]
  },
  {
   "cell_type": "code",
   "execution_count": 264,
   "metadata": {
    "colab": {
     "base_uri": "https://localhost:8080/"
    },
    "id": "UXsJC0B4CxD5",
    "outputId": "69a6966a-3c3a-44bb-bb71-6fda33ab3f6b"
   },
   "outputs": [
    {
     "name": "stdout",
     "output_type": "stream",
     "text": [
      "Epoch 1/100\n",
      "\u001b[1m1/1\u001b[0m \u001b[32m━━━━━━━━━━━━━━━━━━━━\u001b[0m\u001b[37m\u001b[0m \u001b[1m2s\u001b[0m 2s/step - accuracy: 0.4167 - loss: 19.2180 - mse: 0.2606 - val_accuracy: 0.7500 - val_loss: 13.1300 - val_mse: 0.2195\n",
      "Epoch 2/100\n",
      "\u001b[1m1/1\u001b[0m \u001b[32m━━━━━━━━━━━━━━━━━━━━\u001b[0m\u001b[37m\u001b[0m \u001b[1m0s\u001b[0m 102ms/step - accuracy: 0.9167 - loss: 13.1106 - mse: 0.2100 - val_accuracy: 1.0000 - val_loss: 8.5815 - val_mse: 0.1999\n",
      "Epoch 3/100\n",
      "\u001b[1m1/1\u001b[0m \u001b[32m━━━━━━━━━━━━━━━━━━━━\u001b[0m\u001b[37m\u001b[0m \u001b[1m0s\u001b[0m 66ms/step - accuracy: 0.9167 - loss: 8.5663 - mse: 0.1925 - val_accuracy: 1.0000 - val_loss: 5.3832 - val_mse: 0.1792\n",
      "Epoch 4/100\n",
      "\u001b[1m1/1\u001b[0m \u001b[32m━━━━━━━━━━━━━━━━━━━━\u001b[0m\u001b[37m\u001b[0m \u001b[1m0s\u001b[0m 64ms/step - accuracy: 0.9167 - loss: 5.3805 - mse: 0.1782 - val_accuracy: 1.0000 - val_loss: 3.3044 - val_mse: 0.1603\n",
      "Epoch 5/100\n",
      "\u001b[1m1/1\u001b[0m \u001b[32m━━━━━━━━━━━━━━━━━━━━\u001b[0m\u001b[37m\u001b[0m \u001b[1m0s\u001b[0m 138ms/step - accuracy: 0.9167 - loss: 3.3082 - mse: 0.1627 - val_accuracy: 1.0000 - val_loss: 2.0863 - val_mse: 0.1399\n",
      "Epoch 6/100\n",
      "\u001b[1m1/1\u001b[0m \u001b[32m━━━━━━━━━━━━━━━━━━━━\u001b[0m\u001b[37m\u001b[0m \u001b[1m0s\u001b[0m 65ms/step - accuracy: 0.9167 - loss: 2.0975 - mse: 0.1463 - val_accuracy: 1.0000 - val_loss: 1.5068 - val_mse: 0.1192\n",
      "Epoch 7/100\n",
      "\u001b[1m1/1\u001b[0m \u001b[32m━━━━━━━━━━━━━━━━━━━━\u001b[0m\u001b[37m\u001b[0m \u001b[1m0s\u001b[0m 63ms/step - accuracy: 0.9167 - loss: 1.5250 - mse: 0.1296 - val_accuracy: 1.0000 - val_loss: 1.3634 - val_mse: 0.0976\n",
      "Epoch 8/100\n",
      "\u001b[1m1/1\u001b[0m \u001b[32m━━━━━━━━━━━━━━━━━━━━\u001b[0m\u001b[37m\u001b[0m \u001b[1m0s\u001b[0m 63ms/step - accuracy: 0.9167 - loss: 1.3865 - mse: 0.1112 - val_accuracy: 1.0000 - val_loss: 1.4902 - val_mse: 0.0797\n",
      "Epoch 9/100\n",
      "\u001b[1m1/1\u001b[0m \u001b[32m━━━━━━━━━━━━━━━━━━━━\u001b[0m\u001b[37m\u001b[0m \u001b[1m0s\u001b[0m 60ms/step - accuracy: 0.9167 - loss: 1.5063 - mse: 0.0912 - val_accuracy: 1.0000 - val_loss: 1.7331 - val_mse: 0.0652\n",
      "Epoch 10/100\n",
      "\u001b[1m1/1\u001b[0m \u001b[32m━━━━━━━━━━━━━━━━━━━━\u001b[0m\u001b[37m\u001b[0m \u001b[1m0s\u001b[0m 65ms/step - accuracy: 0.9167 - loss: 1.7424 - mse: 0.0748 - val_accuracy: 1.0000 - val_loss: 1.9733 - val_mse: 0.0510\n",
      "Epoch 11/100\n",
      "\u001b[1m1/1\u001b[0m \u001b[32m━━━━━━━━━━━━━━━━━━━━\u001b[0m\u001b[37m\u001b[0m \u001b[1m0s\u001b[0m 142ms/step - accuracy: 0.9167 - loss: 1.9859 - mse: 0.0630 - val_accuracy: 1.0000 - val_loss: 2.1541 - val_mse: 0.0412\n",
      "Epoch 12/100\n",
      "\u001b[1m1/1\u001b[0m \u001b[32m━━━━━━━━━━━━━━━━━━━━\u001b[0m\u001b[37m\u001b[0m \u001b[1m0s\u001b[0m 152ms/step - accuracy: 0.9167 - loss: 2.1691 - mse: 0.0543 - val_accuracy: 1.0000 - val_loss: 2.2486 - val_mse: 0.0374\n",
      "Epoch 13/100\n",
      "\u001b[1m1/1\u001b[0m \u001b[32m━━━━━━━━━━━━━━━━━━━━\u001b[0m\u001b[37m\u001b[0m \u001b[1m0s\u001b[0m 95ms/step - accuracy: 0.9167 - loss: 2.2573 - mse: 0.0466 - val_accuracy: 1.0000 - val_loss: 2.2358 - val_mse: 0.0343\n",
      "Epoch 14/100\n",
      "\u001b[1m1/1\u001b[0m \u001b[32m━━━━━━━━━━━━━━━━━━━━\u001b[0m\u001b[37m\u001b[0m \u001b[1m0s\u001b[0m 128ms/step - accuracy: 0.9167 - loss: 2.2419 - mse: 0.0411 - val_accuracy: 1.0000 - val_loss: 2.1199 - val_mse: 0.0295\n",
      "Epoch 15/100\n",
      "\u001b[1m1/1\u001b[0m \u001b[32m━━━━━━━━━━━━━━━━━━━━\u001b[0m\u001b[37m\u001b[0m \u001b[1m0s\u001b[0m 154ms/step - accuracy: 1.0000 - loss: 2.1324 - mse: 0.0382 - val_accuracy: 1.0000 - val_loss: 1.9397 - val_mse: 0.0282\n",
      "Epoch 16/100\n",
      "\u001b[1m1/1\u001b[0m \u001b[32m━━━━━━━━━━━━━━━━━━━━\u001b[0m\u001b[37m\u001b[0m \u001b[1m0s\u001b[0m 89ms/step - accuracy: 1.0000 - loss: 1.9505 - mse: 0.0351 - val_accuracy: 1.0000 - val_loss: 1.7217 - val_mse: 0.0293\n",
      "Epoch 17/100\n",
      "\u001b[1m1/1\u001b[0m \u001b[32m━━━━━━━━━━━━━━━━━━━━\u001b[0m\u001b[37m\u001b[0m \u001b[1m0s\u001b[0m 125ms/step - accuracy: 1.0000 - loss: 1.7248 - mse: 0.0320 - val_accuracy: 1.0000 - val_loss: 1.4766 - val_mse: 0.0268\n",
      "Epoch 18/100\n",
      "\u001b[1m1/1\u001b[0m \u001b[32m━━━━━━━━━━━━━━━━━━━━\u001b[0m\u001b[37m\u001b[0m \u001b[1m0s\u001b[0m 157ms/step - accuracy: 1.0000 - loss: 1.4832 - mse: 0.0310 - val_accuracy: 1.0000 - val_loss: 1.2470 - val_mse: 0.0268\n",
      "Epoch 19/100\n",
      "\u001b[1m1/1\u001b[0m \u001b[32m━━━━━━━━━━━━━━━━━━━━\u001b[0m\u001b[37m\u001b[0m \u001b[1m0s\u001b[0m 81ms/step - accuracy: 1.0000 - loss: 1.2502 - mse: 0.0294 - val_accuracy: 1.0000 - val_loss: 1.0441 - val_mse: 0.0271\n",
      "Epoch 20/100\n",
      "\u001b[1m1/1\u001b[0m \u001b[32m━━━━━━━━━━━━━━━━━━━━\u001b[0m\u001b[37m\u001b[0m \u001b[1m0s\u001b[0m 144ms/step - accuracy: 1.0000 - loss: 1.0437 - mse: 0.0279 - val_accuracy: 1.0000 - val_loss: 0.8650 - val_mse: 0.0232\n",
      "Epoch 21/100\n",
      "\u001b[1m1/1\u001b[0m \u001b[32m━━━━━━━━━━━━━━━━━━━━\u001b[0m\u001b[37m\u001b[0m \u001b[1m0s\u001b[0m 149ms/step - accuracy: 1.0000 - loss: 0.8747 - mse: 0.0286 - val_accuracy: 1.0000 - val_loss: 0.7507 - val_mse: 0.0270\n",
      "Epoch 22/100\n",
      "\u001b[1m1/1\u001b[0m \u001b[32m━━━━━━━━━━━━━━━━━━━━\u001b[0m\u001b[37m\u001b[0m \u001b[1m0s\u001b[0m 94ms/step - accuracy: 1.0000 - loss: 0.7482 - mse: 0.0264 - val_accuracy: 1.0000 - val_loss: 0.6296 - val_mse: 0.0156\n",
      "Epoch 23/100\n",
      "\u001b[1m1/1\u001b[0m \u001b[32m━━━━━━━━━━━━━━━━━━━━\u001b[0m\u001b[37m\u001b[0m \u001b[1m0s\u001b[0m 141ms/step - accuracy: 1.0000 - loss: 0.6652 - mse: 0.0320 - val_accuracy: 1.0000 - val_loss: 0.6670 - val_mse: 0.0445\n",
      "Epoch 24/100\n",
      "\u001b[1m1/1\u001b[0m \u001b[32m━━━━━━━━━━━━━━━━━━━━\u001b[0m\u001b[37m\u001b[0m \u001b[1m0s\u001b[0m 78ms/step - accuracy: 1.0000 - loss: 0.6317 - mse: 0.0292 - val_accuracy: 1.0000 - val_loss: 0.5310 - val_mse: 0.0126\n",
      "Epoch 25/100\n",
      "\u001b[1m1/1\u001b[0m \u001b[32m━━━━━━━━━━━━━━━━━━━━\u001b[0m\u001b[37m\u001b[0m \u001b[1m0s\u001b[0m 129ms/step - accuracy: 0.8333 - loss: 0.6916 - mse: 0.0836 - val_accuracy: 0.7500 - val_loss: 0.8725 - val_mse: 0.1308\n",
      "Epoch 26/100\n",
      "\u001b[1m1/1\u001b[0m \u001b[32m━━━━━━━━━━━━━━━━━━━━\u001b[0m\u001b[37m\u001b[0m \u001b[1m0s\u001b[0m 155ms/step - accuracy: 0.9167 - loss: 0.7362 - mse: 0.0774 - val_accuracy: 1.0000 - val_loss: 0.5426 - val_mse: 0.0076\n",
      "Epoch 27/100\n",
      "\u001b[1m1/1\u001b[0m \u001b[32m━━━━━━━━━━━━━━━━━━━━\u001b[0m\u001b[37m\u001b[0m \u001b[1m0s\u001b[0m 117ms/step - accuracy: 0.9167 - loss: 0.6140 - mse: 0.0401 - val_accuracy: 1.0000 - val_loss: 0.5323 - val_mse: 0.0040\n",
      "Epoch 28/100\n",
      "\u001b[1m1/1\u001b[0m \u001b[32m━━━━━━━━━━━━━━━━━━━━\u001b[0m\u001b[37m\u001b[0m \u001b[1m0s\u001b[0m 80ms/step - accuracy: 0.9167 - loss: 0.6758 - mse: 0.0652 - val_accuracy: 1.0000 - val_loss: 0.6638 - val_mse: 0.0375\n",
      "Epoch 29/100\n",
      "\u001b[1m1/1\u001b[0m \u001b[32m━━━━━━━━━━━━━━━━━━━━\u001b[0m\u001b[37m\u001b[0m \u001b[1m0s\u001b[0m 86ms/step - accuracy: 1.0000 - loss: 0.6197 - mse: 0.0196 - val_accuracy: 0.7500 - val_loss: 0.7856 - val_mse: 0.0858\n",
      "Epoch 30/100\n",
      "\u001b[1m1/1\u001b[0m \u001b[32m━━━━━━━━━━━━━━━━━━━━\u001b[0m\u001b[37m\u001b[0m \u001b[1m0s\u001b[0m 102ms/step - accuracy: 1.0000 - loss: 0.6646 - mse: 0.0328 - val_accuracy: 1.0000 - val_loss: 0.5638 - val_mse: 0.0123\n",
      "Epoch 31/100\n",
      "\u001b[1m1/1\u001b[0m \u001b[32m━━━━━━━━━━━━━━━━━━━━\u001b[0m\u001b[37m\u001b[0m \u001b[1m0s\u001b[0m 102ms/step - accuracy: 0.9167 - loss: 0.5922 - mse: 0.0265 - val_accuracy: 1.0000 - val_loss: 0.4955 - val_mse: 0.0036\n",
      "Epoch 32/100\n",
      "\u001b[1m1/1\u001b[0m \u001b[32m━━━━━━━━━━━━━━━━━━━━\u001b[0m\u001b[37m\u001b[0m \u001b[1m0s\u001b[0m 130ms/step - accuracy: 0.9167 - loss: 0.6172 - mse: 0.0562 - val_accuracy: 1.0000 - val_loss: 0.5130 - val_mse: 0.0134\n",
      "Epoch 33/100\n",
      "\u001b[1m1/1\u001b[0m \u001b[32m━━━━━━━━━━━━━━━━━━━━\u001b[0m\u001b[37m\u001b[0m \u001b[1m0s\u001b[0m 118ms/step - accuracy: 1.0000 - loss: 0.5344 - mse: 0.0231 - val_accuracy: 1.0000 - val_loss: 0.6208 - val_mse: 0.0632\n",
      "Epoch 34/100\n",
      "\u001b[1m1/1\u001b[0m \u001b[32m━━━━━━━━━━━━━━━━━━━━\u001b[0m\u001b[37m\u001b[0m \u001b[1m0s\u001b[0m 151ms/step - accuracy: 1.0000 - loss: 0.5395 - mse: 0.0267 - val_accuracy: 1.0000 - val_loss: 0.4967 - val_mse: 0.0305\n",
      "Epoch 35/100\n",
      "\u001b[1m1/1\u001b[0m \u001b[32m━━━━━━━━━━━━━━━━━━━━\u001b[0m\u001b[37m\u001b[0m \u001b[1m0s\u001b[0m 91ms/step - accuracy: 1.0000 - loss: 0.4709 - mse: 0.0185 - val_accuracy: 1.0000 - val_loss: 0.3800 - val_mse: 0.0069\n",
      "Epoch 36/100\n",
      "\u001b[1m1/1\u001b[0m \u001b[32m━━━━━━━━━━━━━━━━━━━━\u001b[0m\u001b[37m\u001b[0m \u001b[1m0s\u001b[0m 139ms/step - accuracy: 0.9167 - loss: 0.4629 - mse: 0.0436 - val_accuracy: 1.0000 - val_loss: 0.3700 - val_mse: 0.0108\n",
      "Epoch 37/100\n",
      "\u001b[1m1/1\u001b[0m \u001b[32m━━━━━━━━━━━━━━━━━━━━\u001b[0m\u001b[37m\u001b[0m \u001b[1m0s\u001b[0m 105ms/step - accuracy: 1.0000 - loss: 0.4111 - mse: 0.0282 - val_accuracy: 1.0000 - val_loss: 0.4647 - val_mse: 0.0509\n",
      "Epoch 38/100\n",
      "\u001b[1m1/1\u001b[0m \u001b[32m━━━━━━━━━━━━━━━━━━━━\u001b[0m\u001b[37m\u001b[0m \u001b[1m0s\u001b[0m 129ms/step - accuracy: 1.0000 - loss: 0.4031 - mse: 0.0227 - val_accuracy: 1.0000 - val_loss: 0.4103 - val_mse: 0.0371\n",
      "Epoch 39/100\n",
      "\u001b[1m1/1\u001b[0m \u001b[32m━━━━━━━━━━━━━━━━━━━━\u001b[0m\u001b[37m\u001b[0m \u001b[1m0s\u001b[0m 76ms/step - accuracy: 1.0000 - loss: 0.3695 - mse: 0.0185 - val_accuracy: 1.0000 - val_loss: 0.3117 - val_mse: 0.0094\n",
      "Epoch 40/100\n",
      "\u001b[1m1/1\u001b[0m \u001b[32m━━━━━━━━━━━━━━━━━━━━\u001b[0m\u001b[37m\u001b[0m \u001b[1m0s\u001b[0m 77ms/step - accuracy: 0.9167 - loss: 0.3659 - mse: 0.0342 - val_accuracy: 1.0000 - val_loss: 0.3178 - val_mse: 0.0129\n",
      "Epoch 41/100\n",
      "\u001b[1m1/1\u001b[0m \u001b[32m━━━━━━━━━━━━━━━━━━━━\u001b[0m\u001b[37m\u001b[0m \u001b[1m0s\u001b[0m 89ms/step - accuracy: 1.0000 - loss: 0.3461 - mse: 0.0265 - val_accuracy: 1.0000 - val_loss: 0.4134 - val_mse: 0.0478\n",
      "Epoch 42/100\n",
      "\u001b[1m1/1\u001b[0m \u001b[32m━━━━━━━━━━━━━━━━━━━━\u001b[0m\u001b[37m\u001b[0m \u001b[1m0s\u001b[0m 90ms/step - accuracy: 1.0000 - loss: 0.3480 - mse: 0.0185 - val_accuracy: 1.0000 - val_loss: 0.3860 - val_mse: 0.0385\n",
      "Epoch 43/100\n",
      "\u001b[1m1/1\u001b[0m \u001b[32m━━━━━━━━━━━━━━━━━━━━\u001b[0m\u001b[37m\u001b[0m \u001b[1m0s\u001b[0m 123ms/step - accuracy: 1.0000 - loss: 0.3370 - mse: 0.0170 - val_accuracy: 1.0000 - val_loss: 0.3018 - val_mse: 0.0113\n",
      "Epoch 44/100\n",
      "\u001b[1m1/1\u001b[0m \u001b[32m━━━━━━━━━━━━━━━━━━━━\u001b[0m\u001b[37m\u001b[0m \u001b[1m0s\u001b[0m 77ms/step - accuracy: 0.9167 - loss: 0.3389 - mse: 0.0293 - val_accuracy: 1.0000 - val_loss: 0.3082 - val_mse: 0.0141\n",
      "Epoch 45/100\n",
      "\u001b[1m1/1\u001b[0m \u001b[32m━━━━━━━━━━━━━━━━━━━━\u001b[0m\u001b[37m\u001b[0m \u001b[1m0s\u001b[0m 94ms/step - accuracy: 1.0000 - loss: 0.3295 - mse: 0.0247 - val_accuracy: 1.0000 - val_loss: 0.3818 - val_mse: 0.0407\n",
      "Epoch 46/100\n",
      "\u001b[1m1/1\u001b[0m \u001b[32m━━━━━━━━━━━━━━━━━━━━\u001b[0m\u001b[37m\u001b[0m \u001b[1m0s\u001b[0m 82ms/step - accuracy: 1.0000 - loss: 0.3304 - mse: 0.0178 - val_accuracy: 1.0000 - val_loss: 0.3472 - val_mse: 0.0301\n",
      "Epoch 47/100\n",
      "\u001b[1m1/1\u001b[0m \u001b[32m━━━━━━━━━━━━━━━━━━━━\u001b[0m\u001b[37m\u001b[0m \u001b[1m0s\u001b[0m 88ms/step - accuracy: 1.0000 - loss: 0.3185 - mse: 0.0173 - val_accuracy: 1.0000 - val_loss: 0.2788 - val_mse: 0.0106\n",
      "Epoch 48/100\n",
      "\u001b[1m1/1\u001b[0m \u001b[32m━━━━━━━━━━━━━━━━━━━━\u001b[0m\u001b[37m\u001b[0m \u001b[1m0s\u001b[0m 109ms/step - accuracy: 1.0000 - loss: 0.3193 - mse: 0.0285 - val_accuracy: 1.0000 - val_loss: 0.2916 - val_mse: 0.0163\n",
      "Epoch 49/100\n",
      "\u001b[1m1/1\u001b[0m \u001b[32m━━━━━━━━━━━━━━━━━━━━\u001b[0m\u001b[37m\u001b[0m \u001b[1m0s\u001b[0m 118ms/step - accuracy: 1.0000 - loss: 0.3038 - mse: 0.0211 - val_accuracy: 1.0000 - val_loss: 0.3425 - val_mse: 0.0358\n",
      "Epoch 50/100\n",
      "\u001b[1m1/1\u001b[0m \u001b[32m━━━━━━━━━━━━━━━━━━━━\u001b[0m\u001b[37m\u001b[0m \u001b[1m0s\u001b[0m 152ms/step - accuracy: 1.0000 - loss: 0.3052 - mse: 0.0188 - val_accuracy: 1.0000 - val_loss: 0.2912 - val_mse: 0.0205\n",
      "Epoch 51/100\n",
      "\u001b[1m1/1\u001b[0m \u001b[32m━━━━━━━━━━━━━━━━━━━━\u001b[0m\u001b[37m\u001b[0m \u001b[1m0s\u001b[0m 93ms/step - accuracy: 1.0000 - loss: 0.2889 - mse: 0.0188 - val_accuracy: 1.0000 - val_loss: 0.2530 - val_mse: 0.0110\n",
      "Epoch 52/100\n",
      "\u001b[1m1/1\u001b[0m \u001b[32m━━━━━━━━━━━━━━━━━━━━\u001b[0m\u001b[37m\u001b[0m \u001b[1m0s\u001b[0m 92ms/step - accuracy: 1.0000 - loss: 0.2903 - mse: 0.0271 - val_accuracy: 1.0000 - val_loss: 0.2859 - val_mse: 0.0224\n",
      "Epoch 53/100\n",
      "\u001b[1m1/1\u001b[0m \u001b[32m━━━━━━━━━━━━━━━━━━━━\u001b[0m\u001b[37m\u001b[0m \u001b[1m0s\u001b[0m 87ms/step - accuracy: 1.0000 - loss: 0.2769 - mse: 0.0181 - val_accuracy: 1.0000 - val_loss: 0.3130 - val_mse: 0.0332\n",
      "Epoch 54/100\n",
      "\u001b[1m1/1\u001b[0m \u001b[32m━━━━━━━━━━━━━━━━━━━━\u001b[0m\u001b[37m\u001b[0m \u001b[1m0s\u001b[0m 123ms/step - accuracy: 1.0000 - loss: 0.2775 - mse: 0.0173 - val_accuracy: 1.0000 - val_loss: 0.2622 - val_mse: 0.0171\n",
      "Epoch 55/100\n",
      "\u001b[1m1/1\u001b[0m \u001b[32m━━━━━━━━━━━━━━━━━━━━\u001b[0m\u001b[37m\u001b[0m \u001b[1m0s\u001b[0m 96ms/step - accuracy: 1.0000 - loss: 0.2688 - mse: 0.0203 - val_accuracy: 1.0000 - val_loss: 0.2487 - val_mse: 0.0137\n",
      "Epoch 56/100\n",
      "\u001b[1m1/1\u001b[0m \u001b[32m━━━━━━━━━━━━━━━━━━━━\u001b[0m\u001b[37m\u001b[0m \u001b[1m0s\u001b[0m 142ms/step - accuracy: 1.0000 - loss: 0.2689 - mse: 0.0231 - val_accuracy: 1.0000 - val_loss: 0.2893 - val_mse: 0.0274\n",
      "Epoch 57/100\n",
      "\u001b[1m1/1\u001b[0m \u001b[32m━━━━━━━━━━━━━━━━━━━━\u001b[0m\u001b[37m\u001b[0m \u001b[1m0s\u001b[0m 116ms/step - accuracy: 1.0000 - loss: 0.2641 - mse: 0.0165 - val_accuracy: 1.0000 - val_loss: 0.2930 - val_mse: 0.0293\n",
      "Epoch 58/100\n",
      "\u001b[1m1/1\u001b[0m \u001b[32m━━━━━━━━━━━━━━━━━━━━\u001b[0m\u001b[37m\u001b[0m \u001b[1m0s\u001b[0m 102ms/step - accuracy: 1.0000 - loss: 0.2629 - mse: 0.0161 - val_accuracy: 1.0000 - val_loss: 0.2492 - val_mse: 0.0153\n",
      "Epoch 59/100\n",
      "\u001b[1m1/1\u001b[0m \u001b[32m━━━━━━━━━━━━━━━━━━━━\u001b[0m\u001b[37m\u001b[0m \u001b[1m0s\u001b[0m 97ms/step - accuracy: 1.0000 - loss: 0.2607 - mse: 0.0205 - val_accuracy: 1.0000 - val_loss: 0.2512 - val_mse: 0.0163\n",
      "Epoch 60/100\n",
      "\u001b[1m1/1\u001b[0m \u001b[32m━━━━━━━━━━━━━━━━━━━━\u001b[0m\u001b[37m\u001b[0m \u001b[1m0s\u001b[0m 135ms/step - accuracy: 1.0000 - loss: 0.2578 - mse: 0.0192 - val_accuracy: 1.0000 - val_loss: 0.2861 - val_mse: 0.0285\n",
      "Epoch 61/100\n",
      "\u001b[1m1/1\u001b[0m \u001b[32m━━━━━━━━━━━━━━━━━━━━\u001b[0m\u001b[37m\u001b[0m \u001b[1m0s\u001b[0m 131ms/step - accuracy: 1.0000 - loss: 0.2573 - mse: 0.0155 - val_accuracy: 1.0000 - val_loss: 0.2667 - val_mse: 0.0224\n",
      "Epoch 62/100\n",
      "\u001b[1m1/1\u001b[0m \u001b[32m━━━━━━━━━━━━━━━━━━━━\u001b[0m\u001b[37m\u001b[0m \u001b[1m0s\u001b[0m 76ms/step - accuracy: 1.0000 - loss: 0.2528 - mse: 0.0159 - val_accuracy: 1.0000 - val_loss: 0.2382 - val_mse: 0.0139\n",
      "Epoch 63/100\n",
      "\u001b[1m1/1\u001b[0m \u001b[32m━━━━━━━━━━━━━━━━━━━━\u001b[0m\u001b[37m\u001b[0m \u001b[1m0s\u001b[0m 75ms/step - accuracy: 1.0000 - loss: 0.2530 - mse: 0.0200 - val_accuracy: 1.0000 - val_loss: 0.2587 - val_mse: 0.0208\n",
      "Epoch 64/100\n",
      "\u001b[1m1/1\u001b[0m \u001b[32m━━━━━━━━━━━━━━━━━━━━\u001b[0m\u001b[37m\u001b[0m \u001b[1m0s\u001b[0m 83ms/step - accuracy: 1.0000 - loss: 0.2479 - mse: 0.0158 - val_accuracy: 1.0000 - val_loss: 0.2751 - val_mse: 0.0270\n",
      "Epoch 65/100\n",
      "\u001b[1m1/1\u001b[0m \u001b[32m━━━━━━━━━━━━━━━━━━━━\u001b[0m\u001b[37m\u001b[0m \u001b[1m0s\u001b[0m 132ms/step - accuracy: 1.0000 - loss: 0.2474 - mse: 0.0146 - val_accuracy: 1.0000 - val_loss: 0.2434 - val_mse: 0.0170\n",
      "Epoch 66/100\n",
      "\u001b[1m1/1\u001b[0m \u001b[32m━━━━━━━━━━━━━━━━━━━━\u001b[0m\u001b[37m\u001b[0m \u001b[1m0s\u001b[0m 91ms/step - accuracy: 1.0000 - loss: 0.2437 - mse: 0.0170 - val_accuracy: 1.0000 - val_loss: 0.2402 - val_mse: 0.0164\n",
      "Epoch 67/100\n",
      "\u001b[1m1/1\u001b[0m \u001b[32m━━━━━━━━━━━━━━━━━━━━\u001b[0m\u001b[37m\u001b[0m \u001b[1m0s\u001b[0m 143ms/step - accuracy: 1.0000 - loss: 0.2418 - mse: 0.0171 - val_accuracy: 1.0000 - val_loss: 0.2677 - val_mse: 0.0260\n",
      "Epoch 68/100\n",
      "\u001b[1m1/1\u001b[0m \u001b[32m━━━━━━━━━━━━━━━━━━━━\u001b[0m\u001b[37m\u001b[0m \u001b[1m0s\u001b[0m 103ms/step - accuracy: 1.0000 - loss: 0.2403 - mse: 0.0140 - val_accuracy: 1.0000 - val_loss: 0.2539 - val_mse: 0.0216\n",
      "Epoch 69/100\n",
      "\u001b[1m1/1\u001b[0m \u001b[32m━━━━━━━━━━━━━━━━━━━━\u001b[0m\u001b[37m\u001b[0m \u001b[1m0s\u001b[0m 120ms/step - accuracy: 1.0000 - loss: 0.2373 - mse: 0.0145 - val_accuracy: 1.0000 - val_loss: 0.2327 - val_mse: 0.0152\n",
      "Epoch 70/100\n",
      "\u001b[1m1/1\u001b[0m \u001b[32m━━━━━━━━━━━━━━━━━━━━\u001b[0m\u001b[37m\u001b[0m \u001b[1m0s\u001b[0m 121ms/step - accuracy: 1.0000 - loss: 0.2371 - mse: 0.0172 - val_accuracy: 1.0000 - val_loss: 0.2516 - val_mse: 0.0215\n",
      "Epoch 71/100\n",
      "\u001b[1m1/1\u001b[0m \u001b[32m━━━━━━━━━━━━━━━━━━━━\u001b[0m\u001b[37m\u001b[0m \u001b[1m0s\u001b[0m 108ms/step - accuracy: 1.0000 - loss: 0.2344 - mse: 0.0141 - val_accuracy: 1.0000 - val_loss: 0.2562 - val_mse: 0.0234\n",
      "Epoch 72/100\n",
      "\u001b[1m1/1\u001b[0m \u001b[32m━━━━━━━━━━━━━━━━━━━━\u001b[0m\u001b[37m\u001b[0m \u001b[1m0s\u001b[0m 148ms/step - accuracy: 1.0000 - loss: 0.2336 - mse: 0.0135 - val_accuracy: 1.0000 - val_loss: 0.2307 - val_mse: 0.0154\n",
      "Epoch 73/100\n",
      "\u001b[1m1/1\u001b[0m \u001b[32m━━━━━━━━━━━━━━━━━━━━\u001b[0m\u001b[37m\u001b[0m \u001b[1m0s\u001b[0m 271ms/step - accuracy: 1.0000 - loss: 0.2324 - mse: 0.0159 - val_accuracy: 1.0000 - val_loss: 0.2379 - val_mse: 0.0179\n",
      "Epoch 74/100\n",
      "\u001b[1m1/1\u001b[0m \u001b[32m━━━━━━━━━━━━━━━━━━━━\u001b[0m\u001b[37m\u001b[0m \u001b[1m0s\u001b[0m 157ms/step - accuracy: 1.0000 - loss: 0.2303 - mse: 0.0143 - val_accuracy: 1.0000 - val_loss: 0.2517 - val_mse: 0.0227\n",
      "Epoch 75/100\n",
      "\u001b[1m1/1\u001b[0m \u001b[32m━━━━━━━━━━━━━━━━━━━━\u001b[0m\u001b[37m\u001b[0m \u001b[1m0s\u001b[0m 100ms/step - accuracy: 1.0000 - loss: 0.2299 - mse: 0.0130 - val_accuracy: 1.0000 - val_loss: 0.2302 - val_mse: 0.0160\n",
      "Epoch 76/100\n",
      "\u001b[1m1/1\u001b[0m \u001b[32m━━━━━━━━━━━━━━━━━━━━\u001b[0m\u001b[37m\u001b[0m \u001b[1m0s\u001b[0m 100ms/step - accuracy: 1.0000 - loss: 0.2281 - mse: 0.0147 - val_accuracy: 1.0000 - val_loss: 0.2313 - val_mse: 0.0166\n",
      "Epoch 77/100\n",
      "\u001b[1m1/1\u001b[0m \u001b[32m━━━━━━━━━━━━━━━━━━━━\u001b[0m\u001b[37m\u001b[0m \u001b[1m0s\u001b[0m 137ms/step - accuracy: 1.0000 - loss: 0.2266 - mse: 0.0142 - val_accuracy: 1.0000 - val_loss: 0.2475 - val_mse: 0.0221\n",
      "Epoch 78/100\n",
      "\u001b[1m1/1\u001b[0m \u001b[32m━━━━━━━━━━━━━━━━━━━━\u001b[0m\u001b[37m\u001b[0m \u001b[1m0s\u001b[0m 134ms/step - accuracy: 1.0000 - loss: 0.2259 - mse: 0.0126 - val_accuracy: 1.0000 - val_loss: 0.2300 - val_mse: 0.0167\n",
      "Epoch 79/100\n",
      "\u001b[1m1/1\u001b[0m \u001b[32m━━━━━━━━━━━━━━━━━━━━\u001b[0m\u001b[37m\u001b[0m \u001b[1m0s\u001b[0m 119ms/step - accuracy: 1.0000 - loss: 0.2240 - mse: 0.0139 - val_accuracy: 1.0000 - val_loss: 0.2286 - val_mse: 0.0165\n",
      "Epoch 80/100\n",
      "\u001b[1m1/1\u001b[0m \u001b[32m━━━━━━━━━━━━━━━━━━━━\u001b[0m\u001b[37m\u001b[0m \u001b[1m0s\u001b[0m 113ms/step - accuracy: 1.0000 - loss: 0.2228 - mse: 0.0139 - val_accuracy: 1.0000 - val_loss: 0.2442 - val_mse: 0.0218\n",
      "Epoch 81/100\n",
      "\u001b[1m1/1\u001b[0m \u001b[32m━━━━━━━━━━━━━━━━━━━━\u001b[0m\u001b[37m\u001b[0m \u001b[1m0s\u001b[0m 102ms/step - accuracy: 1.0000 - loss: 0.2220 - mse: 0.0122 - val_accuracy: 1.0000 - val_loss: 0.2278 - val_mse: 0.0168\n",
      "Epoch 82/100\n",
      "\u001b[1m1/1\u001b[0m \u001b[32m━━━━━━━━━━━━━━━━━━━━\u001b[0m\u001b[37m\u001b[0m \u001b[1m0s\u001b[0m 94ms/step - accuracy: 1.0000 - loss: 0.2204 - mse: 0.0135 - val_accuracy: 1.0000 - val_loss: 0.2270 - val_mse: 0.0168\n",
      "Epoch 83/100\n",
      "\u001b[1m1/1\u001b[0m \u001b[32m━━━━━━━━━━━━━━━━━━━━\u001b[0m\u001b[37m\u001b[0m \u001b[1m0s\u001b[0m 152ms/step - accuracy: 1.0000 - loss: 0.2193 - mse: 0.0133 - val_accuracy: 1.0000 - val_loss: 0.2397 - val_mse: 0.0212\n",
      "Epoch 84/100\n",
      "\u001b[1m1/1\u001b[0m \u001b[32m━━━━━━━━━━━━━━━━━━━━\u001b[0m\u001b[37m\u001b[0m \u001b[1m0s\u001b[0m 131ms/step - accuracy: 1.0000 - loss: 0.2186 - mse: 0.0120 - val_accuracy: 1.0000 - val_loss: 0.2234 - val_mse: 0.0161\n",
      "Epoch 85/100\n",
      "\u001b[1m1/1\u001b[0m \u001b[32m━━━━━━━━━━━━━━━━━━━━\u001b[0m\u001b[37m\u001b[0m \u001b[1m0s\u001b[0m 136ms/step - accuracy: 1.0000 - loss: 0.2173 - mse: 0.0133 - val_accuracy: 1.0000 - val_loss: 0.2270 - val_mse: 0.0175\n",
      "Epoch 86/100\n",
      "\u001b[1m1/1\u001b[0m \u001b[32m━━━━━━━━━━━━━━━━━━━━\u001b[0m\u001b[37m\u001b[0m \u001b[1m0s\u001b[0m 96ms/step - accuracy: 1.0000 - loss: 0.2162 - mse: 0.0126 - val_accuracy: 1.0000 - val_loss: 0.2348 - val_mse: 0.0202\n",
      "Epoch 87/100\n",
      "\u001b[1m1/1\u001b[0m \u001b[32m━━━━━━━━━━━━━━━━━━━━\u001b[0m\u001b[37m\u001b[0m \u001b[1m0s\u001b[0m 169ms/step - accuracy: 1.0000 - loss: 0.2155 - mse: 0.0118 - val_accuracy: 1.0000 - val_loss: 0.2196 - val_mse: 0.0155\n",
      "Epoch 88/100\n",
      "\u001b[1m1/1\u001b[0m \u001b[32m━━━━━━━━━━━━━━━━━━━━\u001b[0m\u001b[37m\u001b[0m \u001b[1m0s\u001b[0m 266ms/step - accuracy: 1.0000 - loss: 0.2146 - mse: 0.0131 - val_accuracy: 1.0000 - val_loss: 0.2305 - val_mse: 0.0192\n",
      "Epoch 89/100\n",
      "\u001b[1m1/1\u001b[0m \u001b[32m━━━━━━━━━━━━━━━━━━━━\u001b[0m\u001b[37m\u001b[0m \u001b[1m0s\u001b[0m 110ms/step - accuracy: 1.0000 - loss: 0.2134 - mse: 0.0118 - val_accuracy: 1.0000 - val_loss: 0.2278 - val_mse: 0.0185\n",
      "Epoch 90/100\n",
      "\u001b[1m1/1\u001b[0m \u001b[32m━━━━━━━━━━━━━━━━━━━━\u001b[0m\u001b[37m\u001b[0m \u001b[1m0s\u001b[0m 129ms/step - accuracy: 1.0000 - loss: 0.2124 - mse: 0.0118 - val_accuracy: 1.0000 - val_loss: 0.2198 - val_mse: 0.0161\n",
      "Epoch 91/100\n",
      "\u001b[1m1/1\u001b[0m \u001b[32m━━━━━━━━━━━━━━━━━━━━\u001b[0m\u001b[37m\u001b[0m \u001b[1m0s\u001b[0m 91ms/step - accuracy: 1.0000 - loss: 0.2116 - mse: 0.0125 - val_accuracy: 1.0000 - val_loss: 0.2323 - val_mse: 0.0204\n",
      "Epoch 92/100\n",
      "\u001b[1m1/1\u001b[0m \u001b[32m━━━━━━━━━━━━━━━━━━━━\u001b[0m\u001b[37m\u001b[0m \u001b[1m0s\u001b[0m 156ms/step - accuracy: 1.0000 - loss: 0.2108 - mse: 0.0112 - val_accuracy: 1.0000 - val_loss: 0.2195 - val_mse: 0.0164\n",
      "Epoch 93/100\n",
      "\u001b[1m1/1\u001b[0m \u001b[32m━━━━━━━━━━━━━━━━━━━━\u001b[0m\u001b[37m\u001b[0m \u001b[1m0s\u001b[0m 160ms/step - accuracy: 1.0000 - loss: 0.2097 - mse: 0.0122 - val_accuracy: 1.0000 - val_loss: 0.2243 - val_mse: 0.0181\n",
      "Epoch 94/100\n",
      "\u001b[1m1/1\u001b[0m \u001b[32m━━━━━━━━━━━━━━━━━━━━\u001b[0m\u001b[37m\u001b[0m \u001b[1m0s\u001b[0m 154ms/step - accuracy: 1.0000 - loss: 0.2087 - mse: 0.0114 - val_accuracy: 1.0000 - val_loss: 0.2257 - val_mse: 0.0187\n",
      "Epoch 95/100\n",
      "\u001b[1m1/1\u001b[0m \u001b[32m━━━━━━━━━━━━━━━━━━━━\u001b[0m\u001b[37m\u001b[0m \u001b[1m0s\u001b[0m 117ms/step - accuracy: 1.0000 - loss: 0.2079 - mse: 0.0111 - val_accuracy: 1.0000 - val_loss: 0.2162 - val_mse: 0.0159\n",
      "Epoch 96/100\n",
      "\u001b[1m1/1\u001b[0m \u001b[32m━━━━━━━━━━━━━━━━━━━━\u001b[0m\u001b[37m\u001b[0m \u001b[1m0s\u001b[0m 124ms/step - accuracy: 1.0000 - loss: 0.2071 - mse: 0.0119 - val_accuracy: 1.0000 - val_loss: 0.2278 - val_mse: 0.0198\n",
      "Epoch 97/100\n",
      "\u001b[1m1/1\u001b[0m \u001b[32m━━━━━━━━━━━━━━━━━━━━\u001b[0m\u001b[37m\u001b[0m \u001b[1m0s\u001b[0m 83ms/step - accuracy: 1.0000 - loss: 0.2064 - mse: 0.0107 - val_accuracy: 1.0000 - val_loss: 0.2146 - val_mse: 0.0157\n",
      "Epoch 98/100\n",
      "\u001b[1m1/1\u001b[0m \u001b[32m━━━━━━━━━━━━━━━━━━━━\u001b[0m\u001b[37m\u001b[0m \u001b[1m0s\u001b[0m 63ms/step - accuracy: 1.0000 - loss: 0.2055 - mse: 0.0117 - val_accuracy: 1.0000 - val_loss: 0.2244 - val_mse: 0.0189\n",
      "Epoch 99/100\n",
      "\u001b[1m1/1\u001b[0m \u001b[32m━━━━━━━━━━━━━━━━━━━━\u001b[0m\u001b[37m\u001b[0m \u001b[1m0s\u001b[0m 62ms/step - accuracy: 1.0000 - loss: 0.2046 - mse: 0.0106 - val_accuracy: 1.0000 - val_loss: 0.2168 - val_mse: 0.0166\n",
      "Epoch 100/100\n",
      "\u001b[1m1/1\u001b[0m \u001b[32m━━━━━━━━━━━━━━━━━━━━\u001b[0m\u001b[37m\u001b[0m \u001b[1m0s\u001b[0m 71ms/step - accuracy: 1.0000 - loss: 0.2038 - mse: 0.0111 - val_accuracy: 1.0000 - val_loss: 0.2195 - val_mse: 0.0177\n"
     ]
    }
   ],
   "source": [
    "model.compile(\n",
    "    loss=tf.keras.losses.BinaryCrossentropy(),\n",
    "    optimizer=tf.keras.optimizers.AdamW(learning_rate=0.0158),\n",
    "    metrics=['accuracy', 'mse']\n",
    ")\n",
    "\n",
    "model_obj = model.fit(\n",
    "    x_train,\n",
    "    y_train,\n",
    "    epochs=100,\n",
    "    validation_data=(x_test, y_test),\n",
    "    callbacks=[CustomCallback()]\n",
    ")"
   ]
  },
  {
   "cell_type": "markdown",
   "metadata": {
    "id": "rE9PTkceWGFS"
   },
   "source": [
    "# Model Tuning (Experiment)\n",
    "> This section is only for experiment. Therefore, optional. Make sure you haven't compile or train the model yet!"
   ]
  },
  {
   "cell_type": "code",
   "execution_count": 260,
   "metadata": {
    "colab": {
     "base_uri": "https://localhost:8080/",
     "height": 1000
    },
    "id": "EzB_VYxcWEy9",
    "outputId": "1b5ee930-f1f5-48ab-86e0-139efb7cbb5a"
   },
   "outputs": [
    {
     "data": {
      "text/html": [
       "<pre style=\"white-space:pre;overflow-x:auto;line-height:normal;font-family:Menlo,'DejaVu Sans Mono',consolas,'Courier New',monospace\"><span style=\"font-weight: bold\">Model: \"sequential\"</span>\n",
       "</pre>\n"
      ],
      "text/plain": [
       "\u001b[1mModel: \"sequential\"\u001b[0m\n"
      ]
     },
     "metadata": {},
     "output_type": "display_data"
    },
    {
     "data": {
      "text/html": [
       "<pre style=\"white-space:pre;overflow-x:auto;line-height:normal;font-family:Menlo,'DejaVu Sans Mono',consolas,'Courier New',monospace\">┏━━━━━━━━━━━━━━━━━━━━━━━━━━━━━━━━━━━━━━┳━━━━━━━━━━━━━━━━━━━━━━━━━━━━━┳━━━━━━━━━━━━━━━━━┓\n",
       "┃<span style=\"font-weight: bold\"> Layer (type)                         </span>┃<span style=\"font-weight: bold\"> Output Shape                </span>┃<span style=\"font-weight: bold\">         Param # </span>┃\n",
       "┡━━━━━━━━━━━━━━━━━━━━━━━━━━━━━━━━━━━━━━╇━━━━━━━━━━━━━━━━━━━━━━━━━━━━━╇━━━━━━━━━━━━━━━━━┩\n",
       "│ dense (<span style=\"color: #0087ff; text-decoration-color: #0087ff\">Dense</span>)                        │ (<span style=\"color: #00d7ff; text-decoration-color: #00d7ff\">None</span>, <span style=\"color: #00af00; text-decoration-color: #00af00\">256</span>)                 │           <span style=\"color: #00af00; text-decoration-color: #00af00\">2,304</span> │\n",
       "├──────────────────────────────────────┼─────────────────────────────┼─────────────────┤\n",
       "│ dense_1 (<span style=\"color: #0087ff; text-decoration-color: #0087ff\">Dense</span>)                      │ (<span style=\"color: #00d7ff; text-decoration-color: #00d7ff\">None</span>, <span style=\"color: #00af00; text-decoration-color: #00af00\">128</span>)                 │          <span style=\"color: #00af00; text-decoration-color: #00af00\">32,896</span> │\n",
       "├──────────────────────────────────────┼─────────────────────────────┼─────────────────┤\n",
       "│ dense_2 (<span style=\"color: #0087ff; text-decoration-color: #0087ff\">Dense</span>)                      │ (<span style=\"color: #00d7ff; text-decoration-color: #00d7ff\">None</span>, <span style=\"color: #00af00; text-decoration-color: #00af00\">1</span>)                   │             <span style=\"color: #00af00; text-decoration-color: #00af00\">129</span> │\n",
       "└──────────────────────────────────────┴─────────────────────────────┴─────────────────┘\n",
       "</pre>\n"
      ],
      "text/plain": [
       "┏━━━━━━━━━━━━━━━━━━━━━━━━━━━━━━━━━━━━━━┳━━━━━━━━━━━━━━━━━━━━━━━━━━━━━┳━━━━━━━━━━━━━━━━━┓\n",
       "┃\u001b[1m \u001b[0m\u001b[1mLayer (type)                        \u001b[0m\u001b[1m \u001b[0m┃\u001b[1m \u001b[0m\u001b[1mOutput Shape               \u001b[0m\u001b[1m \u001b[0m┃\u001b[1m \u001b[0m\u001b[1m        Param #\u001b[0m\u001b[1m \u001b[0m┃\n",
       "┡━━━━━━━━━━━━━━━━━━━━━━━━━━━━━━━━━━━━━━╇━━━━━━━━━━━━━━━━━━━━━━━━━━━━━╇━━━━━━━━━━━━━━━━━┩\n",
       "│ dense (\u001b[38;5;33mDense\u001b[0m)                        │ (\u001b[38;5;45mNone\u001b[0m, \u001b[38;5;34m256\u001b[0m)                 │           \u001b[38;5;34m2,304\u001b[0m │\n",
       "├──────────────────────────────────────┼─────────────────────────────┼─────────────────┤\n",
       "│ dense_1 (\u001b[38;5;33mDense\u001b[0m)                      │ (\u001b[38;5;45mNone\u001b[0m, \u001b[38;5;34m128\u001b[0m)                 │          \u001b[38;5;34m32,896\u001b[0m │\n",
       "├──────────────────────────────────────┼─────────────────────────────┼─────────────────┤\n",
       "│ dense_2 (\u001b[38;5;33mDense\u001b[0m)                      │ (\u001b[38;5;45mNone\u001b[0m, \u001b[38;5;34m1\u001b[0m)                   │             \u001b[38;5;34m129\u001b[0m │\n",
       "└──────────────────────────────────────┴─────────────────────────────┴─────────────────┘\n"
      ]
     },
     "metadata": {},
     "output_type": "display_data"
    },
    {
     "data": {
      "text/html": [
       "<pre style=\"white-space:pre;overflow-x:auto;line-height:normal;font-family:Menlo,'DejaVu Sans Mono',consolas,'Courier New',monospace\"><span style=\"font-weight: bold\"> Total params: </span><span style=\"color: #00af00; text-decoration-color: #00af00\">35,329</span> (138.00 KB)\n",
       "</pre>\n"
      ],
      "text/plain": [
       "\u001b[1m Total params: \u001b[0m\u001b[38;5;34m35,329\u001b[0m (138.00 KB)\n"
      ]
     },
     "metadata": {},
     "output_type": "display_data"
    },
    {
     "data": {
      "text/html": [
       "<pre style=\"white-space:pre;overflow-x:auto;line-height:normal;font-family:Menlo,'DejaVu Sans Mono',consolas,'Courier New',monospace\"><span style=\"font-weight: bold\"> Trainable params: </span><span style=\"color: #00af00; text-decoration-color: #00af00\">35,329</span> (138.00 KB)\n",
       "</pre>\n"
      ],
      "text/plain": [
       "\u001b[1m Trainable params: \u001b[0m\u001b[38;5;34m35,329\u001b[0m (138.00 KB)\n"
      ]
     },
     "metadata": {},
     "output_type": "display_data"
    },
    {
     "data": {
      "text/html": [
       "<pre style=\"white-space:pre;overflow-x:auto;line-height:normal;font-family:Menlo,'DejaVu Sans Mono',consolas,'Courier New',monospace\"><span style=\"font-weight: bold\"> Non-trainable params: </span><span style=\"color: #00af00; text-decoration-color: #00af00\">0</span> (0.00 B)\n",
       "</pre>\n"
      ],
      "text/plain": [
       "\u001b[1m Non-trainable params: \u001b[0m\u001b[38;5;34m0\u001b[0m (0.00 B)\n"
      ]
     },
     "metadata": {},
     "output_type": "display_data"
    },
    {
     "name": "stdout",
     "output_type": "stream",
     "text": [
      "Epoch 1/100\n",
      "\u001b[1m1/1\u001b[0m \u001b[32m━━━━━━━━━━━━━━━━━━━━\u001b[0m\u001b[37m\u001b[0m \u001b[1m2s\u001b[0m 2s/step - accuracy: 0.5000 - loss: 18.5906 - mse: 0.2591 - val_accuracy: 0.7500 - val_loss: 18.5814 - val_mse: 0.2416 - learning_rate: 1.0000e-06\n",
      "Epoch 2/100\n",
      "\u001b[1m1/1\u001b[0m \u001b[32m━━━━━━━━━━━━━━━━━━━━\u001b[0m\u001b[37m\u001b[0m \u001b[1m0s\u001b[0m 83ms/step - accuracy: 0.5000 - loss: 18.5901 - mse: 0.2591 - val_accuracy: 0.7500 - val_loss: 18.5809 - val_mse: 0.2416 - learning_rate: 1.1220e-06\n",
      "Epoch 3/100\n",
      "\u001b[1m1/1\u001b[0m \u001b[32m━━━━━━━━━━━━━━━━━━━━\u001b[0m\u001b[37m\u001b[0m \u001b[1m0s\u001b[0m 61ms/step - accuracy: 0.5000 - loss: 18.5896 - mse: 0.2591 - val_accuracy: 0.7500 - val_loss: 18.5803 - val_mse: 0.2416 - learning_rate: 1.2589e-06\n",
      "Epoch 4/100\n",
      "\u001b[1m1/1\u001b[0m \u001b[32m━━━━━━━━━━━━━━━━━━━━\u001b[0m\u001b[37m\u001b[0m \u001b[1m0s\u001b[0m 62ms/step - accuracy: 0.5000 - loss: 18.5891 - mse: 0.2591 - val_accuracy: 0.7500 - val_loss: 18.5797 - val_mse: 0.2416 - learning_rate: 1.4125e-06\n",
      "Epoch 5/100\n",
      "\u001b[1m1/1\u001b[0m \u001b[32m━━━━━━━━━━━━━━━━━━━━\u001b[0m\u001b[37m\u001b[0m \u001b[1m0s\u001b[0m 59ms/step - accuracy: 0.5000 - loss: 18.5884 - mse: 0.2591 - val_accuracy: 0.7500 - val_loss: 18.5790 - val_mse: 0.2416 - learning_rate: 1.5849e-06\n",
      "Epoch 6/100\n",
      "\u001b[1m1/1\u001b[0m \u001b[32m━━━━━━━━━━━━━━━━━━━━\u001b[0m\u001b[37m\u001b[0m \u001b[1m0s\u001b[0m 61ms/step - accuracy: 0.5000 - loss: 18.5877 - mse: 0.2591 - val_accuracy: 0.7500 - val_loss: 18.5782 - val_mse: 0.2416 - learning_rate: 1.7783e-06\n",
      "Epoch 7/100\n",
      "\u001b[1m1/1\u001b[0m \u001b[32m━━━━━━━━━━━━━━━━━━━━\u001b[0m\u001b[37m\u001b[0m \u001b[1m0s\u001b[0m 67ms/step - accuracy: 0.5000 - loss: 18.5870 - mse: 0.2591 - val_accuracy: 0.7500 - val_loss: 18.5773 - val_mse: 0.2416 - learning_rate: 1.9953e-06\n",
      "Epoch 8/100\n",
      "\u001b[1m1/1\u001b[0m \u001b[32m━━━━━━━━━━━━━━━━━━━━\u001b[0m\u001b[37m\u001b[0m \u001b[1m0s\u001b[0m 65ms/step - accuracy: 0.5000 - loss: 18.5861 - mse: 0.2591 - val_accuracy: 0.7500 - val_loss: 18.5764 - val_mse: 0.2416 - learning_rate: 2.2387e-06\n",
      "Epoch 9/100\n",
      "\u001b[1m1/1\u001b[0m \u001b[32m━━━━━━━━━━━━━━━━━━━━\u001b[0m\u001b[37m\u001b[0m \u001b[1m0s\u001b[0m 62ms/step - accuracy: 0.5000 - loss: 18.5851 - mse: 0.2591 - val_accuracy: 0.7500 - val_loss: 18.5753 - val_mse: 0.2416 - learning_rate: 2.5119e-06\n",
      "Epoch 10/100\n",
      "\u001b[1m1/1\u001b[0m \u001b[32m━━━━━━━━━━━━━━━━━━━━\u001b[0m\u001b[37m\u001b[0m \u001b[1m0s\u001b[0m 64ms/step - accuracy: 0.5000 - loss: 18.5840 - mse: 0.2591 - val_accuracy: 0.7500 - val_loss: 18.5740 - val_mse: 0.2416 - learning_rate: 2.8184e-06\n",
      "Epoch 11/100\n",
      "\u001b[1m1/1\u001b[0m \u001b[32m━━━━━━━━━━━━━━━━━━━━\u001b[0m\u001b[37m\u001b[0m \u001b[1m0s\u001b[0m 62ms/step - accuracy: 0.5000 - loss: 18.5828 - mse: 0.2591 - val_accuracy: 0.7500 - val_loss: 18.5727 - val_mse: 0.2416 - learning_rate: 3.1623e-06\n",
      "Epoch 12/100\n",
      "\u001b[1m1/1\u001b[0m \u001b[32m━━━━━━━━━━━━━━━━━━━━\u001b[0m\u001b[37m\u001b[0m \u001b[1m0s\u001b[0m 62ms/step - accuracy: 0.5000 - loss: 18.5814 - mse: 0.2591 - val_accuracy: 0.7500 - val_loss: 18.5711 - val_mse: 0.2416 - learning_rate: 3.5481e-06\n",
      "Epoch 13/100\n",
      "\u001b[1m1/1\u001b[0m \u001b[32m━━━━━━━━━━━━━━━━━━━━\u001b[0m\u001b[37m\u001b[0m \u001b[1m0s\u001b[0m 62ms/step - accuracy: 0.5000 - loss: 18.5798 - mse: 0.2591 - val_accuracy: 0.7500 - val_loss: 18.5694 - val_mse: 0.2416 - learning_rate: 3.9811e-06\n",
      "Epoch 14/100\n",
      "\u001b[1m1/1\u001b[0m \u001b[32m━━━━━━━━━━━━━━━━━━━━\u001b[0m\u001b[37m\u001b[0m \u001b[1m0s\u001b[0m 66ms/step - accuracy: 0.5000 - loss: 18.5781 - mse: 0.2591 - val_accuracy: 0.7500 - val_loss: 18.5674 - val_mse: 0.2416 - learning_rate: 4.4668e-06\n",
      "Epoch 15/100\n",
      "\u001b[1m1/1\u001b[0m \u001b[32m━━━━━━━━━━━━━━━━━━━━\u001b[0m\u001b[37m\u001b[0m \u001b[1m0s\u001b[0m 168ms/step - accuracy: 0.5000 - loss: 18.5761 - mse: 0.2591 - val_accuracy: 0.7500 - val_loss: 18.5652 - val_mse: 0.2416 - learning_rate: 5.0119e-06\n",
      "Epoch 16/100\n",
      "\u001b[1m1/1\u001b[0m \u001b[32m━━━━━━━━━━━━━━━━━━━━\u001b[0m\u001b[37m\u001b[0m \u001b[1m0s\u001b[0m 76ms/step - accuracy: 0.5000 - loss: 18.5739 - mse: 0.2590 - val_accuracy: 0.7500 - val_loss: 18.5627 - val_mse: 0.2416 - learning_rate: 5.6234e-06\n",
      "Epoch 17/100\n",
      "\u001b[1m1/1\u001b[0m \u001b[32m━━━━━━━━━━━━━━━━━━━━\u001b[0m\u001b[37m\u001b[0m \u001b[1m0s\u001b[0m 78ms/step - accuracy: 0.5000 - loss: 18.5714 - mse: 0.2590 - val_accuracy: 0.7500 - val_loss: 18.5600 - val_mse: 0.2416 - learning_rate: 6.3096e-06\n",
      "Epoch 18/100\n",
      "\u001b[1m1/1\u001b[0m \u001b[32m━━━━━━━━━━━━━━━━━━━━\u001b[0m\u001b[37m\u001b[0m \u001b[1m0s\u001b[0m 125ms/step - accuracy: 0.5000 - loss: 18.5687 - mse: 0.2590 - val_accuracy: 0.7500 - val_loss: 18.5569 - val_mse: 0.2416 - learning_rate: 7.0795e-06\n",
      "Epoch 19/100\n",
      "\u001b[1m1/1\u001b[0m \u001b[32m━━━━━━━━━━━━━━━━━━━━\u001b[0m\u001b[37m\u001b[0m \u001b[1m0s\u001b[0m 142ms/step - accuracy: 0.5000 - loss: 18.5656 - mse: 0.2590 - val_accuracy: 0.7500 - val_loss: 18.5534 - val_mse: 0.2416 - learning_rate: 7.9433e-06\n",
      "Epoch 20/100\n",
      "\u001b[1m1/1\u001b[0m \u001b[32m━━━━━━━━━━━━━━━━━━━━\u001b[0m\u001b[37m\u001b[0m \u001b[1m0s\u001b[0m 128ms/step - accuracy: 0.5000 - loss: 18.5621 - mse: 0.2590 - val_accuracy: 0.7500 - val_loss: 18.5495 - val_mse: 0.2416 - learning_rate: 8.9125e-06\n",
      "Epoch 21/100\n",
      "\u001b[1m1/1\u001b[0m \u001b[32m━━━━━━━━━━━━━━━━━━━━\u001b[0m\u001b[37m\u001b[0m \u001b[1m0s\u001b[0m 62ms/step - accuracy: 0.5000 - loss: 18.5582 - mse: 0.2589 - val_accuracy: 0.7500 - val_loss: 18.5451 - val_mse: 0.2416 - learning_rate: 1.0000e-05\n",
      "Epoch 22/100\n",
      "\u001b[1m1/1\u001b[0m \u001b[32m━━━━━━━━━━━━━━━━━━━━\u001b[0m\u001b[37m\u001b[0m \u001b[1m0s\u001b[0m 64ms/step - accuracy: 0.5000 - loss: 18.5538 - mse: 0.2589 - val_accuracy: 0.7500 - val_loss: 18.5402 - val_mse: 0.2415 - learning_rate: 1.1220e-05\n",
      "Epoch 23/100\n",
      "\u001b[1m1/1\u001b[0m \u001b[32m━━━━━━━━━━━━━━━━━━━━\u001b[0m\u001b[37m\u001b[0m \u001b[1m0s\u001b[0m 61ms/step - accuracy: 0.5000 - loss: 18.5489 - mse: 0.2589 - val_accuracy: 0.7500 - val_loss: 18.5347 - val_mse: 0.2415 - learning_rate: 1.2589e-05\n",
      "Epoch 24/100\n",
      "\u001b[1m1/1\u001b[0m \u001b[32m━━━━━━━━━━━━━━━━━━━━\u001b[0m\u001b[37m\u001b[0m \u001b[1m0s\u001b[0m 61ms/step - accuracy: 0.5000 - loss: 18.5433 - mse: 0.2589 - val_accuracy: 0.7500 - val_loss: 18.5285 - val_mse: 0.2415 - learning_rate: 1.4125e-05\n",
      "Epoch 25/100\n",
      "\u001b[1m1/1\u001b[0m \u001b[32m━━━━━━━━━━━━━━━━━━━━\u001b[0m\u001b[37m\u001b[0m \u001b[1m0s\u001b[0m 80ms/step - accuracy: 0.5000 - loss: 18.5372 - mse: 0.2588 - val_accuracy: 0.7500 - val_loss: 18.5216 - val_mse: 0.2415 - learning_rate: 1.5849e-05\n",
      "Epoch 26/100\n",
      "\u001b[1m1/1\u001b[0m \u001b[32m━━━━━━━━━━━━━━━━━━━━\u001b[0m\u001b[37m\u001b[0m \u001b[1m0s\u001b[0m 83ms/step - accuracy: 0.5000 - loss: 18.5302 - mse: 0.2588 - val_accuracy: 0.7500 - val_loss: 18.5138 - val_mse: 0.2415 - learning_rate: 1.7783e-05\n",
      "Epoch 27/100\n",
      "\u001b[1m1/1\u001b[0m \u001b[32m━━━━━━━━━━━━━━━━━━━━\u001b[0m\u001b[37m\u001b[0m \u001b[1m0s\u001b[0m 129ms/step - accuracy: 0.5000 - loss: 18.5224 - mse: 0.2587 - val_accuracy: 0.7500 - val_loss: 18.5051 - val_mse: 0.2415 - learning_rate: 1.9953e-05\n",
      "Epoch 28/100\n",
      "\u001b[1m1/1\u001b[0m \u001b[32m━━━━━━━━━━━━━━━━━━━━\u001b[0m\u001b[37m\u001b[0m \u001b[1m0s\u001b[0m 63ms/step - accuracy: 0.5000 - loss: 18.5137 - mse: 0.2587 - val_accuracy: 0.7500 - val_loss: 18.4953 - val_mse: 0.2414 - learning_rate: 2.2387e-05\n",
      "Epoch 29/100\n",
      "\u001b[1m1/1\u001b[0m \u001b[32m━━━━━━━━━━━━━━━━━━━━\u001b[0m\u001b[37m\u001b[0m \u001b[1m0s\u001b[0m 63ms/step - accuracy: 0.5000 - loss: 18.5039 - mse: 0.2586 - val_accuracy: 0.7500 - val_loss: 18.4843 - val_mse: 0.2414 - learning_rate: 2.5119e-05\n",
      "Epoch 30/100\n",
      "\u001b[1m1/1\u001b[0m \u001b[32m━━━━━━━━━━━━━━━━━━━━\u001b[0m\u001b[37m\u001b[0m \u001b[1m0s\u001b[0m 63ms/step - accuracy: 0.5000 - loss: 18.4929 - mse: 0.2586 - val_accuracy: 0.7500 - val_loss: 18.4720 - val_mse: 0.2414 - learning_rate: 2.8184e-05\n",
      "Epoch 31/100\n",
      "\u001b[1m1/1\u001b[0m \u001b[32m━━━━━━━━━━━━━━━━━━━━\u001b[0m\u001b[37m\u001b[0m \u001b[1m0s\u001b[0m 64ms/step - accuracy: 0.5000 - loss: 18.4806 - mse: 0.2585 - val_accuracy: 0.7500 - val_loss: 18.4582 - val_mse: 0.2414 - learning_rate: 3.1623e-05\n",
      "Epoch 32/100\n",
      "\u001b[1m1/1\u001b[0m \u001b[32m━━━━━━━━━━━━━━━━━━━━\u001b[0m\u001b[37m\u001b[0m \u001b[1m0s\u001b[0m 65ms/step - accuracy: 0.5000 - loss: 18.4667 - mse: 0.2584 - val_accuracy: 0.7500 - val_loss: 18.4428 - val_mse: 0.2413 - learning_rate: 3.5481e-05\n",
      "Epoch 33/100\n",
      "\u001b[1m1/1\u001b[0m \u001b[32m━━━━━━━━━━━━━━━━━━━━\u001b[0m\u001b[37m\u001b[0m \u001b[1m0s\u001b[0m 61ms/step - accuracy: 0.5000 - loss: 18.4512 - mse: 0.2583 - val_accuracy: 0.7500 - val_loss: 18.4254 - val_mse: 0.2413 - learning_rate: 3.9811e-05\n",
      "Epoch 34/100\n",
      "\u001b[1m1/1\u001b[0m \u001b[32m━━━━━━━━━━━━━━━━━━━━\u001b[0m\u001b[37m\u001b[0m \u001b[1m0s\u001b[0m 134ms/step - accuracy: 0.5000 - loss: 18.4339 - mse: 0.2582 - val_accuracy: 0.7500 - val_loss: 18.4060 - val_mse: 0.2413 - learning_rate: 4.4668e-05\n",
      "Epoch 35/100\n",
      "\u001b[1m1/1\u001b[0m \u001b[32m━━━━━━━━━━━━━━━━━━━━\u001b[0m\u001b[37m\u001b[0m \u001b[1m0s\u001b[0m 62ms/step - accuracy: 0.5000 - loss: 18.4144 - mse: 0.2581 - val_accuracy: 0.7500 - val_loss: 18.3842 - val_mse: 0.2412 - learning_rate: 5.0119e-05\n",
      "Epoch 36/100\n",
      "\u001b[1m1/1\u001b[0m \u001b[32m━━━━━━━━━━━━━━━━━━━━\u001b[0m\u001b[37m\u001b[0m \u001b[1m0s\u001b[0m 63ms/step - accuracy: 0.5000 - loss: 18.3926 - mse: 0.2580 - val_accuracy: 0.7500 - val_loss: 18.3598 - val_mse: 0.2412 - learning_rate: 5.6234e-05\n",
      "Epoch 37/100\n",
      "\u001b[1m1/1\u001b[0m \u001b[32m━━━━━━━━━━━━━━━━━━━━\u001b[0m\u001b[37m\u001b[0m \u001b[1m0s\u001b[0m 85ms/step - accuracy: 0.5000 - loss: 18.3681 - mse: 0.2578 - val_accuracy: 0.7500 - val_loss: 18.3324 - val_mse: 0.2411 - learning_rate: 6.3096e-05\n",
      "Epoch 38/100\n",
      "\u001b[1m1/1\u001b[0m \u001b[32m━━━━━━━━━━━━━━━━━━━━\u001b[0m\u001b[37m\u001b[0m \u001b[1m0s\u001b[0m 131ms/step - accuracy: 0.5000 - loss: 18.3407 - mse: 0.2577 - val_accuracy: 0.7500 - val_loss: 18.3017 - val_mse: 0.2410 - learning_rate: 7.0795e-05\n",
      "Epoch 39/100\n",
      "\u001b[1m1/1\u001b[0m \u001b[32m━━━━━━━━━━━━━━━━━━━━\u001b[0m\u001b[37m\u001b[0m \u001b[1m0s\u001b[0m 76ms/step - accuracy: 0.5000 - loss: 18.3099 - mse: 0.2575 - val_accuracy: 0.7500 - val_loss: 18.2673 - val_mse: 0.2409 - learning_rate: 7.9433e-05\n",
      "Epoch 40/100\n",
      "\u001b[1m1/1\u001b[0m \u001b[32m━━━━━━━━━━━━━━━━━━━━\u001b[0m\u001b[37m\u001b[0m \u001b[1m0s\u001b[0m 158ms/step - accuracy: 0.5000 - loss: 18.2755 - mse: 0.2573 - val_accuracy: 0.7500 - val_loss: 18.2289 - val_mse: 0.2409 - learning_rate: 8.9125e-05\n",
      "Epoch 41/100\n",
      "\u001b[1m1/1\u001b[0m \u001b[32m━━━━━━━━━━━━━━━━━━━━\u001b[0m\u001b[37m\u001b[0m \u001b[1m0s\u001b[0m 90ms/step - accuracy: 0.5000 - loss: 18.2370 - mse: 0.2571 - val_accuracy: 0.7500 - val_loss: 18.1858 - val_mse: 0.2408 - learning_rate: 1.0000e-04\n",
      "Epoch 42/100\n",
      "\u001b[1m1/1\u001b[0m \u001b[32m━━━━━━━━━━━━━━━━━━━━\u001b[0m\u001b[37m\u001b[0m \u001b[1m0s\u001b[0m 127ms/step - accuracy: 0.5000 - loss: 18.1938 - mse: 0.2568 - val_accuracy: 0.7500 - val_loss: 18.1375 - val_mse: 0.2407 - learning_rate: 1.1220e-04\n",
      "Epoch 43/100\n",
      "\u001b[1m1/1\u001b[0m \u001b[32m━━━━━━━━━━━━━━━━━━━━\u001b[0m\u001b[37m\u001b[0m \u001b[1m0s\u001b[0m 105ms/step - accuracy: 0.5000 - loss: 18.1454 - mse: 0.2565 - val_accuracy: 0.7500 - val_loss: 18.0835 - val_mse: 0.2405 - learning_rate: 1.2589e-04\n",
      "Epoch 44/100\n",
      "\u001b[1m1/1\u001b[0m \u001b[32m━━━━━━━━━━━━━━━━━━━━\u001b[0m\u001b[37m\u001b[0m \u001b[1m0s\u001b[0m 117ms/step - accuracy: 0.5833 - loss: 18.0913 - mse: 0.2562 - val_accuracy: 0.7500 - val_loss: 18.0231 - val_mse: 0.2404 - learning_rate: 1.4125e-04\n",
      "Epoch 45/100\n",
      "\u001b[1m1/1\u001b[0m \u001b[32m━━━━━━━━━━━━━━━━━━━━\u001b[0m\u001b[37m\u001b[0m \u001b[1m0s\u001b[0m 129ms/step - accuracy: 0.5833 - loss: 18.0308 - mse: 0.2559 - val_accuracy: 0.7500 - val_loss: 17.9555 - val_mse: 0.2402 - learning_rate: 1.5849e-04\n",
      "Epoch 46/100\n",
      "\u001b[1m1/1\u001b[0m \u001b[32m━━━━━━━━━━━━━━━━━━━━\u001b[0m\u001b[37m\u001b[0m \u001b[1m0s\u001b[0m 128ms/step - accuracy: 0.5833 - loss: 17.9631 - mse: 0.2555 - val_accuracy: 0.7500 - val_loss: 17.8799 - val_mse: 0.2401 - learning_rate: 1.7783e-04\n",
      "Epoch 47/100\n",
      "\u001b[1m1/1\u001b[0m \u001b[32m━━━━━━━━━━━━━━━━━━━━\u001b[0m\u001b[37m\u001b[0m \u001b[1m0s\u001b[0m 100ms/step - accuracy: 0.5833 - loss: 17.8874 - mse: 0.2550 - val_accuracy: 0.7500 - val_loss: 17.7954 - val_mse: 0.2399 - learning_rate: 1.9953e-04\n",
      "Epoch 48/100\n",
      "\u001b[1m1/1\u001b[0m \u001b[32m━━━━━━━━━━━━━━━━━━━━\u001b[0m\u001b[37m\u001b[0m \u001b[1m0s\u001b[0m 103ms/step - accuracy: 0.5833 - loss: 17.8028 - mse: 0.2546 - val_accuracy: 0.7500 - val_loss: 17.7010 - val_mse: 0.2396 - learning_rate: 2.2387e-04\n",
      "Epoch 49/100\n",
      "\u001b[1m1/1\u001b[0m \u001b[32m━━━━━━━━━━━━━━━━━━━━\u001b[0m\u001b[37m\u001b[0m \u001b[1m0s\u001b[0m 145ms/step - accuracy: 0.5833 - loss: 17.7082 - mse: 0.2540 - val_accuracy: 0.7500 - val_loss: 17.5957 - val_mse: 0.2394 - learning_rate: 2.5119e-04\n",
      "Epoch 50/100\n",
      "\u001b[1m1/1\u001b[0m \u001b[32m━━━━━━━━━━━━━━━━━━━━\u001b[0m\u001b[37m\u001b[0m \u001b[1m0s\u001b[0m 125ms/step - accuracy: 0.5833 - loss: 17.6027 - mse: 0.2534 - val_accuracy: 0.7500 - val_loss: 17.4781 - val_mse: 0.2391 - learning_rate: 2.8184e-04\n",
      "Epoch 51/100\n",
      "\u001b[1m1/1\u001b[0m \u001b[32m━━━━━━━━━━━━━━━━━━━━\u001b[0m\u001b[37m\u001b[0m \u001b[1m0s\u001b[0m 138ms/step - accuracy: 0.5833 - loss: 17.4849 - mse: 0.2528 - val_accuracy: 0.7500 - val_loss: 17.3470 - val_mse: 0.2388 - learning_rate: 3.1623e-04\n",
      "Epoch 52/100\n",
      "\u001b[1m1/1\u001b[0m \u001b[32m━━━━━━━━━━━━━━━━━━━━\u001b[0m\u001b[37m\u001b[0m \u001b[1m0s\u001b[0m 130ms/step - accuracy: 0.5833 - loss: 17.3536 - mse: 0.2520 - val_accuracy: 0.7500 - val_loss: 17.2009 - val_mse: 0.2385 - learning_rate: 3.5481e-04\n",
      "Epoch 53/100\n",
      "\u001b[1m1/1\u001b[0m \u001b[32m━━━━━━━━━━━━━━━━━━━━\u001b[0m\u001b[37m\u001b[0m \u001b[1m0s\u001b[0m 119ms/step - accuracy: 0.5833 - loss: 17.2073 - mse: 0.2512 - val_accuracy: 0.7500 - val_loss: 17.0383 - val_mse: 0.2381 - learning_rate: 3.9811e-04\n",
      "Epoch 54/100\n",
      "\u001b[1m1/1\u001b[0m \u001b[32m━━━━━━━━━━━━━━━━━━━━\u001b[0m\u001b[37m\u001b[0m \u001b[1m0s\u001b[0m 117ms/step - accuracy: 0.5833 - loss: 17.0444 - mse: 0.2503 - val_accuracy: 0.7500 - val_loss: 16.8574 - val_mse: 0.2376 - learning_rate: 4.4668e-04\n",
      "Epoch 55/100\n",
      "\u001b[1m1/1\u001b[0m \u001b[32m━━━━━━━━━━━━━━━━━━━━\u001b[0m\u001b[37m\u001b[0m \u001b[1m0s\u001b[0m 127ms/step - accuracy: 0.6667 - loss: 16.8632 - mse: 0.2493 - val_accuracy: 0.7500 - val_loss: 16.6564 - val_mse: 0.2371 - learning_rate: 5.0119e-04\n",
      "Epoch 56/100\n",
      "\u001b[1m1/1\u001b[0m \u001b[32m━━━━━━━━━━━━━━━━━━━━\u001b[0m\u001b[37m\u001b[0m \u001b[1m0s\u001b[0m 130ms/step - accuracy: 0.6667 - loss: 16.6619 - mse: 0.2482 - val_accuracy: 0.7500 - val_loss: 16.4334 - val_mse: 0.2365 - learning_rate: 5.6234e-04\n",
      "Epoch 57/100\n",
      "\u001b[1m1/1\u001b[0m \u001b[32m━━━━━━━━━━━━━━━━━━━━\u001b[0m\u001b[37m\u001b[0m \u001b[1m0s\u001b[0m 130ms/step - accuracy: 0.6667 - loss: 16.4386 - mse: 0.2469 - val_accuracy: 0.7500 - val_loss: 16.1862 - val_mse: 0.2358 - learning_rate: 6.3096e-04\n",
      "Epoch 58/100\n",
      "\u001b[1m1/1\u001b[0m \u001b[32m━━━━━━━━━━━━━━━━━━━━\u001b[0m\u001b[37m\u001b[0m \u001b[1m0s\u001b[0m 113ms/step - accuracy: 0.7500 - loss: 16.1910 - mse: 0.2456 - val_accuracy: 0.7500 - val_loss: 15.9127 - val_mse: 0.2351 - learning_rate: 7.0795e-04\n",
      "Epoch 59/100\n",
      "\u001b[1m1/1\u001b[0m \u001b[32m━━━━━━━━━━━━━━━━━━━━\u001b[0m\u001b[37m\u001b[0m \u001b[1m0s\u001b[0m 116ms/step - accuracy: 0.7500 - loss: 15.9172 - mse: 0.2441 - val_accuracy: 0.7500 - val_loss: 15.6105 - val_mse: 0.2343 - learning_rate: 7.9433e-04\n",
      "Epoch 60/100\n",
      "\u001b[1m1/1\u001b[0m \u001b[32m━━━━━━━━━━━━━━━━━━━━\u001b[0m\u001b[37m\u001b[0m \u001b[1m0s\u001b[0m 127ms/step - accuracy: 0.7500 - loss: 15.6146 - mse: 0.2425 - val_accuracy: 0.7500 - val_loss: 15.2774 - val_mse: 0.2333 - learning_rate: 8.9125e-04\n",
      "Epoch 61/100\n",
      "\u001b[1m1/1\u001b[0m \u001b[32m━━━━━━━━━━━━━━━━━━━━\u001b[0m\u001b[37m\u001b[0m \u001b[1m0s\u001b[0m 283ms/step - accuracy: 0.7500 - loss: 15.2810 - mse: 0.2407 - val_accuracy: 0.7500 - val_loss: 14.9108 - val_mse: 0.2322 - learning_rate: 0.0010\n",
      "Epoch 62/100\n",
      "\u001b[1m1/1\u001b[0m \u001b[32m━━━━━━━━━━━━━━━━━━━━\u001b[0m\u001b[37m\u001b[0m \u001b[1m0s\u001b[0m 105ms/step - accuracy: 0.6667 - loss: 14.9140 - mse: 0.2387 - val_accuracy: 1.0000 - val_loss: 14.5084 - val_mse: 0.2310 - learning_rate: 0.0011\n",
      "Epoch 63/100\n",
      "\u001b[1m1/1\u001b[0m \u001b[32m━━━━━━━━━━━━━━━━━━━━\u001b[0m\u001b[37m\u001b[0m \u001b[1m0s\u001b[0m 137ms/step - accuracy: 0.7500 - loss: 14.5113 - mse: 0.2366 - val_accuracy: 1.0000 - val_loss: 14.0681 - val_mse: 0.2296 - learning_rate: 0.0013\n",
      "Epoch 64/100\n",
      "\u001b[1m1/1\u001b[0m \u001b[32m━━━━━━━━━━━━━━━━━━━━\u001b[0m\u001b[37m\u001b[0m \u001b[1m0s\u001b[0m 110ms/step - accuracy: 0.7500 - loss: 14.0705 - mse: 0.2344 - val_accuracy: 1.0000 - val_loss: 13.5875 - val_mse: 0.2281 - learning_rate: 0.0014\n",
      "Epoch 65/100\n",
      "\u001b[1m1/1\u001b[0m \u001b[32m━━━━━━━━━━━━━━━━━━━━\u001b[0m\u001b[37m\u001b[0m \u001b[1m0s\u001b[0m 139ms/step - accuracy: 0.8333 - loss: 13.5894 - mse: 0.2319 - val_accuracy: 1.0000 - val_loss: 13.0649 - val_mse: 0.2264 - learning_rate: 0.0016\n",
      "Epoch 66/100\n",
      "\u001b[1m1/1\u001b[0m \u001b[32m━━━━━━━━━━━━━━━━━━━━\u001b[0m\u001b[37m\u001b[0m \u001b[1m0s\u001b[0m 127ms/step - accuracy: 0.8333 - loss: 13.0664 - mse: 0.2293 - val_accuracy: 1.0000 - val_loss: 12.4988 - val_mse: 0.2245 - learning_rate: 0.0018\n",
      "Epoch 67/100\n",
      "\u001b[1m1/1\u001b[0m \u001b[32m━━━━━━━━━━━━━━━━━━━━\u001b[0m\u001b[37m\u001b[0m \u001b[1m0s\u001b[0m 96ms/step - accuracy: 0.8333 - loss: 12.4998 - mse: 0.2265 - val_accuracy: 1.0000 - val_loss: 11.8883 - val_mse: 0.2223 - learning_rate: 0.0020\n",
      "Epoch 68/100\n",
      "\u001b[1m1/1\u001b[0m \u001b[32m━━━━━━━━━━━━━━━━━━━━\u001b[0m\u001b[37m\u001b[0m \u001b[1m0s\u001b[0m 109ms/step - accuracy: 0.8333 - loss: 11.8889 - mse: 0.2235 - val_accuracy: 1.0000 - val_loss: 11.2332 - val_mse: 0.2197 - learning_rate: 0.0022\n",
      "Epoch 69/100\n",
      "\u001b[1m1/1\u001b[0m \u001b[32m━━━━━━━━━━━━━━━━━━━━\u001b[0m\u001b[37m\u001b[0m \u001b[1m0s\u001b[0m 142ms/step - accuracy: 0.8333 - loss: 11.2336 - mse: 0.2205 - val_accuracy: 1.0000 - val_loss: 10.5341 - val_mse: 0.2166 - learning_rate: 0.0025\n",
      "Epoch 70/100\n",
      "\u001b[1m1/1\u001b[0m \u001b[32m━━━━━━━━━━━━━━━━━━━━\u001b[0m\u001b[37m\u001b[0m \u001b[1m0s\u001b[0m 80ms/step - accuracy: 0.8333 - loss: 10.5346 - mse: 0.2175 - val_accuracy: 1.0000 - val_loss: 9.7931 - val_mse: 0.2128 - learning_rate: 0.0028\n",
      "Epoch 71/100\n",
      "\u001b[1m1/1\u001b[0m \u001b[32m━━━━━━━━━━━━━━━━━━━━\u001b[0m\u001b[37m\u001b[0m \u001b[1m0s\u001b[0m 66ms/step - accuracy: 0.8333 - loss: 9.7939 - mse: 0.2144 - val_accuracy: 1.0000 - val_loss: 9.0136 - val_mse: 0.2085 - learning_rate: 0.0032\n",
      "Epoch 72/100\n",
      "\u001b[1m1/1\u001b[0m \u001b[32m━━━━━━━━━━━━━━━━━━━━\u001b[0m\u001b[37m\u001b[0m \u001b[1m0s\u001b[0m 135ms/step - accuracy: 0.8333 - loss: 9.0150 - mse: 0.2114 - val_accuracy: 1.0000 - val_loss: 8.2007 - val_mse: 0.2035 - learning_rate: 0.0035\n",
      "Epoch 73/100\n",
      "\u001b[1m1/1\u001b[0m \u001b[32m━━━━━━━━━━━━━━━━━━━━\u001b[0m\u001b[37m\u001b[0m \u001b[1m0s\u001b[0m 65ms/step - accuracy: 0.8333 - loss: 8.2031 - mse: 0.2084 - val_accuracy: 1.0000 - val_loss: 7.3616 - val_mse: 0.1980 - learning_rate: 0.0040\n",
      "Epoch 74/100\n",
      "\u001b[1m1/1\u001b[0m \u001b[32m━━━━━━━━━━━━━━━━━━━━\u001b[0m\u001b[37m\u001b[0m \u001b[1m0s\u001b[0m 64ms/step - accuracy: 0.8333 - loss: 7.3654 - mse: 0.2055 - val_accuracy: 0.7500 - val_loss: 6.5061 - val_mse: 0.1926 - learning_rate: 0.0045\n",
      "Epoch 75/100\n",
      "\u001b[1m1/1\u001b[0m \u001b[32m━━━━━━━━━━━━━━━━━━━━\u001b[0m\u001b[37m\u001b[0m \u001b[1m0s\u001b[0m 76ms/step - accuracy: 0.8333 - loss: 6.5113 - mse: 0.2030 - val_accuracy: 0.7500 - val_loss: 5.6462 - val_mse: 0.1874 - learning_rate: 0.0050\n",
      "Epoch 76/100\n",
      "\u001b[1m1/1\u001b[0m \u001b[32m━━━━━━━━━━━━━━━━━━━━\u001b[0m\u001b[37m\u001b[0m \u001b[1m0s\u001b[0m 138ms/step - accuracy: 0.7500 - loss: 5.6531 - mse: 0.2011 - val_accuracy: 0.7500 - val_loss: 4.7963 - val_mse: 0.1822 - learning_rate: 0.0056\n",
      "Epoch 77/100\n",
      "\u001b[1m1/1\u001b[0m \u001b[32m━━━━━━━━━━━━━━━━━━━━\u001b[0m\u001b[37m\u001b[0m \u001b[1m0s\u001b[0m 64ms/step - accuracy: 0.7500 - loss: 4.8050 - mse: 0.1995 - val_accuracy: 0.7500 - val_loss: 3.9738 - val_mse: 0.1773 - learning_rate: 0.0063\n",
      "Epoch 78/100\n",
      "\u001b[1m1/1\u001b[0m \u001b[32m━━━━━━━━━━━━━━━━━━━━\u001b[0m\u001b[37m\u001b[0m \u001b[1m0s\u001b[0m 72ms/step - accuracy: 0.6667 - loss: 3.9843 - mse: 0.1983 - val_accuracy: 0.7500 - val_loss: 3.1983 - val_mse: 0.1732 - learning_rate: 0.0071\n",
      "Epoch 79/100\n",
      "\u001b[1m1/1\u001b[0m \u001b[32m━━━━━━━━━━━━━━━━━━━━\u001b[0m\u001b[37m\u001b[0m \u001b[1m0s\u001b[0m 64ms/step - accuracy: 0.6667 - loss: 3.2105 - mse: 0.1976 - val_accuracy: 0.7500 - val_loss: 2.4918 - val_mse: 0.1708 - learning_rate: 0.0079\n",
      "Epoch 80/100\n",
      "\u001b[1m1/1\u001b[0m \u001b[32m━━━━━━━━━━━━━━━━━━━━\u001b[0m\u001b[37m\u001b[0m \u001b[1m0s\u001b[0m 67ms/step - accuracy: 0.5833 - loss: 2.5051 - mse: 0.1975 - val_accuracy: 0.7500 - val_loss: 1.8771 - val_mse: 0.1706 - learning_rate: 0.0089\n",
      "Epoch 81/100\n",
      "\u001b[1m1/1\u001b[0m \u001b[32m━━━━━━━━━━━━━━━━━━━━\u001b[0m\u001b[37m\u001b[0m \u001b[1m0s\u001b[0m 65ms/step - accuracy: 0.5833 - loss: 1.8908 - mse: 0.1980 - val_accuracy: 0.7500 - val_loss: 1.3767 - val_mse: 0.1723 - learning_rate: 0.0100\n",
      "Epoch 82/100\n",
      "\u001b[1m1/1\u001b[0m \u001b[32m━━━━━━━━━━━━━━━━━━━━\u001b[0m\u001b[37m\u001b[0m \u001b[1m0s\u001b[0m 65ms/step - accuracy: 0.5833 - loss: 1.3901 - mse: 0.1993 - val_accuracy: 0.7500 - val_loss: 1.0117 - val_mse: 0.1770 - learning_rate: 0.0112\n",
      "Epoch 83/100\n",
      "\u001b[1m1/1\u001b[0m \u001b[32m━━━━━━━━━━━━━━━━━━━━\u001b[0m\u001b[37m\u001b[0m \u001b[1m0s\u001b[0m 65ms/step - accuracy: 0.7500 - loss: 1.0239 - mse: 0.2015 - val_accuracy: 0.7500 - val_loss: 0.7990 - val_mse: 0.1849 - learning_rate: 0.0126\n",
      "Epoch 84/100\n",
      "\u001b[1m1/1\u001b[0m \u001b[32m━━━━━━━━━━━━━━━━━━━━\u001b[0m\u001b[37m\u001b[0m \u001b[1m0s\u001b[0m 65ms/step - accuracy: 0.7500 - loss: 0.8090 - mse: 0.2048 - val_accuracy: 0.7500 - val_loss: 0.7480 - val_mse: 0.1940 - learning_rate: 0.0141\n",
      "Epoch 85/100\n",
      "\u001b[1m1/1\u001b[0m \u001b[32m━━━━━━━━━━━━━━━━━━━━\u001b[0m\u001b[37m\u001b[0m \u001b[1m0s\u001b[0m 134ms/step - accuracy: 0.7500 - loss: 0.7558 - mse: 0.2096 - val_accuracy: 0.7500 - val_loss: 0.8575 - val_mse: 0.1994 - learning_rate: 0.0158\n",
      "Epoch 86/100\n",
      "\u001b[1m1/1\u001b[0m \u001b[32m━━━━━━━━━━━━━━━━━━━━\u001b[0m\u001b[37m\u001b[0m \u001b[1m0s\u001b[0m 88ms/step - accuracy: 0.7500 - loss: 0.8648 - mse: 0.2140 - val_accuracy: 0.7500 - val_loss: 1.1157 - val_mse: 0.1990 - learning_rate: 0.0178\n",
      "Epoch 87/100\n",
      "\u001b[1m1/1\u001b[0m \u001b[32m━━━━━━━━━━━━━━━━━━━━\u001b[0m\u001b[37m\u001b[0m \u001b[1m0s\u001b[0m 97ms/step - accuracy: 0.5833 - loss: 1.1250 - mse: 0.2176 - val_accuracy: 0.7500 - val_loss: 1.4988 - val_mse: 0.1949 - learning_rate: 0.0200\n",
      "Epoch 88/100\n",
      "\u001b[1m1/1\u001b[0m \u001b[32m━━━━━━━━━━━━━━━━━━━━\u001b[0m\u001b[37m\u001b[0m \u001b[1m0s\u001b[0m 73ms/step - accuracy: 0.5833 - loss: 1.5104 - mse: 0.2182 - val_accuracy: 0.7500 - val_loss: 1.9691 - val_mse: 0.1918 - learning_rate: 0.0224\n",
      "Epoch 89/100\n",
      "\u001b[1m1/1\u001b[0m \u001b[32m━━━━━━━━━━━━━━━━━━━━\u001b[0m\u001b[37m\u001b[0m \u001b[1m0s\u001b[0m 83ms/step - accuracy: 0.5833 - loss: 1.9799 - mse: 0.2135 - val_accuracy: 0.7500 - val_loss: 2.4718 - val_mse: 0.1902 - learning_rate: 0.0251\n",
      "Epoch 90/100\n",
      "\u001b[1m1/1\u001b[0m \u001b[32m━━━━━━━━━━━━━━━━━━━━\u001b[0m\u001b[37m\u001b[0m \u001b[1m0s\u001b[0m 115ms/step - accuracy: 0.8333 - loss: 2.4772 - mse: 0.2010 - val_accuracy: 1.0000 - val_loss: 2.9320 - val_mse: 0.1735 - learning_rate: 0.0282\n",
      "Epoch 91/100\n",
      "\u001b[1m1/1\u001b[0m \u001b[32m━━━━━━━━━━━━━━━━━━━━\u001b[0m\u001b[37m\u001b[0m \u001b[1m0s\u001b[0m 65ms/step - accuracy: 0.8333 - loss: 2.9353 - mse: 0.1801 - val_accuracy: 1.0000 - val_loss: 3.2840 - val_mse: 0.1484 - learning_rate: 0.0316\n",
      "Epoch 92/100\n",
      "\u001b[1m1/1\u001b[0m \u001b[32m━━━━━━━━━━━━━━━━━━━━\u001b[0m\u001b[37m\u001b[0m \u001b[1m0s\u001b[0m 66ms/step - accuracy: 0.9167 - loss: 3.2854 - mse: 0.1512 - val_accuracy: 1.0000 - val_loss: 3.4619 - val_mse: 0.1141 - learning_rate: 0.0355\n",
      "Epoch 93/100\n",
      "\u001b[1m1/1\u001b[0m \u001b[32m━━━━━━━━━━━━━━━━━━━━\u001b[0m\u001b[37m\u001b[0m \u001b[1m0s\u001b[0m 61ms/step - accuracy: 0.9167 - loss: 3.4647 - mse: 0.1197 - val_accuracy: 1.0000 - val_loss: 3.4332 - val_mse: 0.0984 - learning_rate: 0.0398\n",
      "Epoch 94/100\n",
      "\u001b[1m1/1\u001b[0m \u001b[32m━━━━━━━━━━━━━━━━━━━━\u001b[0m\u001b[37m\u001b[0m \u001b[1m0s\u001b[0m 65ms/step - accuracy: 0.9167 - loss: 3.4310 - mse: 0.0938 - val_accuracy: 0.7500 - val_loss: 3.1713 - val_mse: 0.0828 - learning_rate: 0.0447\n",
      "Epoch 95/100\n",
      "\u001b[1m1/1\u001b[0m \u001b[32m━━━━━━━━━━━━━━━━━━━━\u001b[0m\u001b[37m\u001b[0m \u001b[1m0s\u001b[0m 62ms/step - accuracy: 0.8333 - loss: 3.2100 - mse: 0.1600 - val_accuracy: 0.2500 - val_loss: 3.0924 - val_mse: 0.7023 - learning_rate: 0.0501\n",
      "Epoch 96/100\n",
      "\u001b[1m1/1\u001b[0m \u001b[32m━━━━━━━━━━━━━━━━━━━━\u001b[0m\u001b[37m\u001b[0m \u001b[1m0s\u001b[0m 73ms/step - accuracy: 0.4167 - loss: 3.0069 - mse: 0.5314 - val_accuracy: 0.2500 - val_loss: 2.5048 - val_mse: 0.6972 - learning_rate: 0.0562\n",
      "Epoch 97/100\n",
      "\u001b[1m1/1\u001b[0m \u001b[32m━━━━━━━━━━━━━━━━━━━━\u001b[0m\u001b[37m\u001b[0m \u001b[1m0s\u001b[0m 63ms/step - accuracy: 0.4167 - loss: 2.4193 - mse: 0.5262 - val_accuracy: 1.0000 - val_loss: 1.6045 - val_mse: 0.0585 - learning_rate: 0.0631\n",
      "Epoch 98/100\n",
      "\u001b[1m1/1\u001b[0m \u001b[32m━━━━━━━━━━━━━━━━━━━━\u001b[0m\u001b[37m\u001b[0m \u001b[1m0s\u001b[0m 81ms/step - accuracy: 0.8333 - loss: 1.6232 - mse: 0.0961 - val_accuracy: 1.0000 - val_loss: 1.1512 - val_mse: 0.0768 - learning_rate: 0.0708\n",
      "Epoch 99/100\n",
      "\u001b[1m1/1\u001b[0m \u001b[32m━━━━━━━━━━━━━━━━━━━━\u001b[0m\u001b[37m\u001b[0m \u001b[1m0s\u001b[0m 127ms/step - accuracy: 0.8333 - loss: 1.1750 - mse: 0.1244 - val_accuracy: 0.2500 - val_loss: 1.2997 - val_mse: 0.7203 - learning_rate: 0.0794\n",
      "Epoch 100/100\n",
      "\u001b[1m1/1\u001b[0m \u001b[32m━━━━━━━━━━━━━━━━━━━━\u001b[0m\u001b[37m\u001b[0m \u001b[1m0s\u001b[0m 70ms/step - accuracy: 0.4167 - loss: 1.2168 - mse: 0.5544 - val_accuracy: 0.2500 - val_loss: 1.3765 - val_mse: 0.7371 - learning_rate: 0.0891\n"
     ]
    }
   ],
   "source": [
    "# Learning rate scheduler\n",
    "\n",
    "tf.keras.backend.clear_session()\n",
    "\n",
    "model = tf.keras.models.Sequential([\n",
    "    tf.keras.Input(shape=(8,)),\n",
    "    tf.keras.layers.Dense(256, kernel_regularizer=tf.keras.regularizers.l2(0.1), activation='relu'),\n",
    "    tf.keras.layers.Dense(128, kernel_regularizer=tf.keras.regularizers.l2(0.1), activation='relu'),\n",
    "    tf.keras.layers.Dense(1, activation='sigmoid')\n",
    "])\n",
    "\n",
    "model.summary()\n",
    "\n",
    "lr_schedule = tf.keras.callbacks.LearningRateScheduler(lambda epoch: 1e-6 * 10 ** (epoch / 20))\n",
    "\n",
    "model.compile(\n",
    "    loss=tf.keras.losses.Huber(),\n",
    "    optimizer=tf.keras.optimizers.AdamW(learning_rate=1e-6),\n",
    "    metrics=['accuracy', 'mse']\n",
    ")\n",
    "\n",
    "model_obj = model.fit(\n",
    "    x_train,\n",
    "    y_train,\n",
    "    epochs=100,\n",
    "    validation_data=(x_test, y_test),\n",
    "    callbacks=[lr_schedule]\n",
    ")"
   ]
  },
  {
   "cell_type": "markdown",
   "metadata": {
    "id": "8xdaes9T61Gm"
   },
   "source": [
    "# Model Evaluation\n"
   ]
  },
  {
   "cell_type": "code",
   "execution_count": 265,
   "metadata": {
    "colab": {
     "base_uri": "https://localhost:8080/",
     "height": 455
    },
    "id": "Z9I22v7u60mc",
    "outputId": "a1665b4b-9831-482c-c75e-ede22d0cdd09"
   },
   "outputs": [
    {
     "data": {
      "image/png": "[encoded data removed]",
      "text/plain": [
       "<Figure size 2400x600 with 3 Axes>"
      ]
     },
     "metadata": {},
     "output_type": "display_data"
    }
   ],
   "source": [
    "fig, ax = plt.subplots(1, 3, figsize=(24, 6))\n",
    "\n",
    "ax[0].plot(model_obj.history['accuracy'], label='Accuracy')\n",
    "ax[0].plot(model_obj.history['val_accuracy'], label='Val Accuracy')\n",
    "ax[0].set_title('Training and Validation Accuracy')\n",
    "ax[0].legend()\n",
    "\n",
    "ax[1].plot(model_obj.history['loss'], label='Loss')\n",
    "ax[1].plot(model_obj.history['val_loss'], label='Val Loss')\n",
    "ax[1].set_title('Training and Validation Loss')\n",
    "ax[1].legend()\n",
    "\n",
    "ax[2].plot(model_obj.history['mse'], label='MSE')\n",
    "ax[2].plot(model_obj.history['val_mse'], label='Val MSE')\n",
    "ax[2].set_title('Training and Validation MSE')\n",
    "ax[2].legend()\n",
    "\n",
    "plt.show()"
   ]
  },
  {
   "cell_type": "markdown",
   "metadata": {
    "id": "hjMDrjgL24e4"
   },
   "source": [
    "# Predict"
   ]
  },
  {
   "cell_type": "code",
   "execution_count": 266,
   "metadata": {
    "colab": {
     "base_uri": "https://localhost:8080/"
    },
    "id": "wgjtc6zy23Qi",
    "outputId": "73913c78-5c04-445e-e421-77ffeb6c54c6"
   },
   "outputs": [
    {
     "name": "stdout",
     "output_type": "stream",
     "text": [
      "\n",
      "[1. 1. 1. 1. 1. 1. 1. 0.]\n",
      "Diagnosis: Positive\n",
      "Prediction: 0.9862117767333984\n",
      "\n",
      "[0. 0. 0. 0. 0. 0. 0. 1.]\n",
      "Diagnosis: Negative\n",
      "Prediction: 0.03319379687309265\n",
      "\n",
      "[0. 0. 0. 0. 1. 0. 0. 1.]\n",
      "Diagnosis: Negative\n",
      "Prediction: 0.2632269263267517\n",
      "\n",
      "[0. 0. 0. 1. 0. 0. 1. 0.]\n",
      "Diagnosis: Negative\n",
      "Prediction: 0.008784325793385506\n"
     ]
    }
   ],
   "source": [
    "for x in x_test.to_numpy():\n",
    "  print(f\"\\n{x}\")\n",
    "  prediction = model.predict(tf.constant([x]), verbose=0)[0][0]\n",
    "\n",
    "  print(\"Diagnosis: {}\".format(\"Positive\" if (prediction > 0.5) else \"Negative\"))\n",
    "  print(f\"Prediction: {prediction}\")"
   ]
  }
 ],
 "metadata": {
  "colab": {
   "provenance": []
  },
  "kernelspec": {
   "display_name": "Python 3 (ipykernel)",
   "language": "python",
   "name": "python3"
  },
  "language_info": {
   "codemirror_mode": {
    "name": "ipython",
    "version": 3
   },
   "file_extension": ".py",
   "mimetype": "text/x-python",
   "name": "python",
   "nbconvert_exporter": "python",
   "pygments_lexer": "ipython3",
   "version": "3.12.7"
  }
 },
 "nbformat": 4,
 "nbformat_minor": 4
}
